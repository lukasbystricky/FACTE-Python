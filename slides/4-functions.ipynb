{
 "cells": [
  {
   "cell_type": "markdown",
   "metadata": {
    "slideshow": {
     "slide_type": "slide"
    }
   },
   "source": [
    "# Simple Functions"
   ]
  },
  {
   "cell_type": "markdown",
   "metadata": {
    "slideshow": {
     "slide_type": "slide"
    }
   },
   "source": [
    "We've seen some example of simple functions such as `print()` and `int()`. Python supports a few more function which we will disucss now. Later on we'll see how to write our own functions."
   ]
  },
  {
   "cell_type": "markdown",
   "metadata": {
    "slideshow": {
     "slide_type": "slide"
    }
   },
   "source": [
    "## Elements of a function\n",
    "\n",
    "A function is a block of reusable code that performs some action. To use a function you call it with some appropriate parameters if the function requires any. \n",
    "\n",
    "The main idea behind a function is that you don't have to know at all how it works. You only need to know three things:\n",
    "1. the name of the function\n",
    "2. the parameters it needs (if any)\n",
    "3. the return value of the function (if any)"
   ]
  },
  {
   "cell_type": "markdown",
   "metadata": {
    "slideshow": {
     "slide_type": "subslide"
    }
   },
   "source": [
    "### Function name\n",
    "\n",
    "Every function has a name. Like variable names, a function name can consist of letters, digits and underscores. Almost all Python functions consist only of lowercase letters. Typically the name of a function describes what it does."
   ]
  },
  {
   "cell_type": "markdown",
   "metadata": {
    "slideshow": {
     "slide_type": "subslide"
    }
   },
   "source": [
    "### Parameters\n",
    "\n",
    "Some functions are called with parameters (or arguments) which may or may not be mandatory. The parameters are placed between the parentheses that follow the function name. If there are multiple parameters you must place commas between them. If there are no arguments you must still place open and closed parentheses after the function name. "
   ]
  },
  {
   "cell_type": "markdown",
   "metadata": {
    "slideshow": {
     "slide_type": "subslide"
    }
   },
   "source": [
    "The parameters are the values that the use supplies to the function to work with. For example, the `int()` function maust be called with exactly one parameter, which is the value that we wish to convert to an integer. \n",
    "\n",
    "The `print()` function on the other hand may be called with any number of parameter (even zero) which it will display."
   ]
  },
  {
   "cell_type": "markdown",
   "metadata": {
    "slideshow": {
     "slide_type": "subslide"
    }
   },
   "source": [
    "In general a function does not change parameters. For example:"
   ]
  },
  {
   "cell_type": "code",
   "execution_count": 2,
   "metadata": {
    "collapsed": false
   },
   "outputs": [
    {
     "name": "stdout",
     "output_type": "stream",
     "text": [
      "1\n",
      "1.56\n"
     ]
    }
   ],
   "source": [
    "x = 1.56\n",
    "print(int(x))\n",
    "print(x)"
   ]
  },
  {
   "cell_type": "markdown",
   "metadata": {},
   "source": [
    "Calling `int(x)` did not change the value of `x`. The reason that functions do not change the value of the parameters is because they are in general **passed by value**. This means that the function does not get access to the actual parameter itself (i.e. its location in memory) but rather only copies of the parameters with the same value.\n",
    "\n",
    "Not all data types are passed by value, however the ones we have seen up until now are. We may come back to this later on."
   ]
  },
  {
   "cell_type": "markdown",
   "metadata": {
    "slideshow": {
     "slide_type": "subslide"
    }
   },
   "source": [
    "If a function takes in multiple parameters then the order matters. For example the `pow()` function takes in two parameters and raises the first to the power of the second."
   ]
  },
  {
   "cell_type": "code",
   "execution_count": 3,
   "metadata": {
    "collapsed": false
   },
   "outputs": [
    {
     "name": "stdout",
     "output_type": "stream",
     "text": [
      "8\n"
     ]
    }
   ],
   "source": [
    "base = 2\n",
    "exponent = 3\n",
    "print(pow(base, exponent))"
   ]
  },
  {
   "cell_type": "markdown",
   "metadata": {
    "slideshow": {
     "slide_type": "subslide"
    }
   },
   "source": [
    "Parameters must be of the proper type. If this is not the case Python will give an error."
   ]
  },
  {
   "cell_type": "code",
   "execution_count": 4,
   "metadata": {
    "collapsed": false
   },
   "outputs": [
    {
     "ename": "TypeError",
     "evalue": "unsupported operand type(s) for ** or pow(): 'str' and 'int'",
     "output_type": "error",
     "traceback": [
      "\u001b[1;31m---------------------------------------------------------------------------\u001b[0m",
      "\u001b[1;31mTypeError\u001b[0m                                 Traceback (most recent call last)",
      "\u001b[1;32m<ipython-input-4-95f413d63cf4>\u001b[0m in \u001b[0;36m<module>\u001b[1;34m()\u001b[0m\n\u001b[0;32m      1\u001b[0m \u001b[0mbase\u001b[0m \u001b[1;33m=\u001b[0m \u001b[1;34m\"2\"\u001b[0m\u001b[1;33m\u001b[0m\u001b[0m\n\u001b[0;32m      2\u001b[0m \u001b[0mexponent\u001b[0m \u001b[1;33m=\u001b[0m \u001b[1;36m3\u001b[0m\u001b[1;33m\u001b[0m\u001b[0m\n\u001b[1;32m----> 3\u001b[1;33m \u001b[0mprint\u001b[0m\u001b[1;33m(\u001b[0m\u001b[0mpow\u001b[0m\u001b[1;33m(\u001b[0m\u001b[0mbase\u001b[0m\u001b[1;33m,\u001b[0m \u001b[0mexponent\u001b[0m\u001b[1;33m)\u001b[0m\u001b[1;33m)\u001b[0m\u001b[1;33m\u001b[0m\u001b[0m\n\u001b[0m",
      "\u001b[1;31mTypeError\u001b[0m: unsupported operand type(s) for ** or pow(): 'str' and 'int'"
     ]
    }
   ],
   "source": [
    "base = \"2\"\n",
    "exponent = 3\n",
    "print(pow(base, exponent))"
   ]
  },
  {
   "cell_type": "markdown",
   "metadata": {
    "slideshow": {
     "slide_type": "subslide"
    }
   },
   "source": [
    "### Return value\n",
    "\n",
    "A function may or may not return a value. If the function returns a value then it can be used in your code. For example the `int()` function returns an integer representation of the parameter it gets. You can place this return value in a variable using the assignment operator, or use it in a different manner, for example immediately print it. "
   ]
  },
  {
   "cell_type": "code",
   "execution_count": 5,
   "metadata": {
    "collapsed": false
   },
   "outputs": [
    {
     "name": "stdout",
     "output_type": "stream",
     "text": [
      "2\n"
     ]
    }
   ],
   "source": [
    "x = 2.1\n",
    "z = int(x)\n",
    "print(z)"
   ]
  },
  {
   "cell_type": "markdown",
   "metadata": {
    "slideshow": {
     "slide_type": "subslide"
    }
   },
   "source": [
    "As we've seen, we can use function calls as parameters for a function. For example:"
   ]
  },
  {
   "cell_type": "code",
   "execution_count": 6,
   "metadata": {
    "collapsed": false
   },
   "outputs": [
    {
     "name": "stdout",
     "output_type": "stream",
     "text": [
      "2\n"
     ]
    }
   ],
   "source": [
    "x = 2.1\n",
    "print(int(z))"
   ]
  },
  {
   "cell_type": "markdown",
   "metadata": {},
   "source": [
    "In this case the `int()` function is executed before the `print()` function is called, since Python first calculates all the parameters before it makes a function call. "
   ]
  },
  {
   "cell_type": "markdown",
   "metadata": {
    "slideshow": {
     "slide_type": "subslide"
    }
   },
   "source": [
    "Not all functions return a value. For example the `print()` function does not. Consider the following code"
   ]
  },
  {
   "cell_type": "code",
   "execution_count": 8,
   "metadata": {
    "collapsed": false
   },
   "outputs": [
    {
     "name": "stdout",
     "output_type": "stream",
     "text": [
      "Hello world\n",
      "None\n"
     ]
    }
   ],
   "source": [
    "a = print(\"Hello world\")\n",
    "print(a)"
   ]
  },
  {
   "cell_type": "markdown",
   "metadata": {
    "slideshow": {
     "slide_type": "subslide"
    }
   },
   "source": [
    "The first line is executed by first evaluating the right hand side of the assigment operator. This prints \"Hello world\". It then assigns the return value of the print statement to `a`. \n",
    "\n",
    "But of course `print()` doesn't return anything. Instead of giving an error, Python assigns the value `None` to `a`. `None` is a special value in Python that indicates \"no value at all\". Python prints the word \"None\", but `a` is not actually a string containing the word \"None\". This is only an indication that `a` does not contain anything to print."
   ]
  },
  {
   "cell_type": "markdown",
   "metadata": {
    "slideshow": {
     "slide_type": "slide"
    }
   },
   "source": [
    "## More basic functions\n",
    "\n",
    "We've seen a few basic functions already. The `print()` function for instance. We've also seen some type casting functions: `int()`, `float()`, `str()`. Earlier in this section we were introduced to the `pow()` function that returns one number raised to the power of another. Here we will look at some other built-in Python functions"
   ]
  },
  {
   "cell_type": "markdown",
   "metadata": {
    "slideshow": {
     "slide_type": "subslide"
    }
   },
   "source": [
    "### Calculations\n",
    "\n",
    "* `abs()` has one numerical parameter (an integer or a float). If the value is positive, it will return the value. If the value is negative, it will return the value multiplied by -1.\n",
    "* `max()` has two or more numerical parameters, and returns the largest.\n",
    "* `min()` has two or more numerical parameters, and returns the smallest.\n",
    "* `pow()` has two numerical parameters, and returns the first to the power of the second.\n",
    "Optionally, it has a third numerical parameter. If that third parameter is supplied, it will return the value modulo that third parameter.\n",
    "* `round()` has a numerical parameter and rounds it, mathematically, to a whole number.\n",
    "It has an optional second parameter. The second parameter must be an integer,\n",
    "and if it is provided, the function will round the first parameter to the number of\n",
    "decimals specified by the second parameter."
   ]
  },
  {
   "cell_type": "markdown",
   "metadata": {
    "slideshow": {
     "slide_type": "subslide"
    }
   },
   "source": [
    "### `len()`\n",
    "\n",
    "`len(`) is a basic function that gets one parameter, and it returns the length of that parameter.\n",
    "For now, the only data type which you will use `len()` for is the string. `len()` returns the\n",
    "length of the string, i.e., the number of characters."
   ]
  },
  {
   "cell_type": "markdown",
   "metadata": {
    "slideshow": {
     "slide_type": "subslide"
    }
   },
   "source": [
    "### `input()`\n",
    "\n",
    "Sometimes you want the user of a program to supply some data. The `input()` function lets us ask the user to give us a string value. The function has a single parameter, a string, which is the prompt message. \n",
    "\n",
    "When `input()` is called, the prompt mesage is displayed on the screen and the user gets to enter something. The user may type anything they want and then press `Enter` to stop entering input. The return value of the `input()` function is whatever to user typed, up to but not including the `Enter` key. "
   ]
  },
  {
   "cell_type": "markdown",
   "metadata": {
    "slideshow": {
     "slide_type": "subslide"
    }
   },
   "source": [
    "Depending on the environment in which you use Python, exactly how the user gets asked for input may vary. Sometimes a box is displayed. In the terminal the user is just asked to type something directly. In some editors a box pops up.\n",
    "\n",
    "Here is an example of the `input()` function."
   ]
  },
  {
   "cell_type": "code",
   "execution_count": 9,
   "metadata": {
    "collapsed": false
   },
   "outputs": [
    {
     "name": "stdout",
     "output_type": "stream",
     "text": [
      "Please enter some text: Hello world\n",
      "You entered Hello world\n"
     ]
    }
   ],
   "source": [
    "text = input(\"Please enter some text: \")\n",
    "print(\"You entered\", text)"
   ]
  },
  {
   "cell_type": "markdown",
   "metadata": {
    "slideshow": {
     "slide_type": "subslide"
    }
   },
   "source": [
    "Be aware that `input()` always returns a string. For example the following code produces an error."
   ]
  },
  {
   "cell_type": "code",
   "execution_count": 10,
   "metadata": {
    "collapsed": false
   },
   "outputs": [
    {
     "name": "stdout",
     "output_type": "stream",
     "text": [
      "Please enter a number: 5\n"
     ]
    },
    {
     "ename": "TypeError",
     "evalue": "can't multiply sequence by non-int of type 'str'",
     "output_type": "error",
     "traceback": [
      "\u001b[1;31m---------------------------------------------------------------------------\u001b[0m",
      "\u001b[1;31mTypeError\u001b[0m                                 Traceback (most recent call last)",
      "\u001b[1;32m<ipython-input-10-d97a4e8e89b0>\u001b[0m in \u001b[0;36m<module>\u001b[1;34m()\u001b[0m\n\u001b[0;32m      1\u001b[0m \u001b[0mnumber\u001b[0m \u001b[1;33m=\u001b[0m \u001b[0minput\u001b[0m\u001b[1;33m(\u001b[0m\u001b[1;34m\"Please enter a number: \"\u001b[0m\u001b[1;33m)\u001b[0m\u001b[1;33m\u001b[0m\u001b[0m\n\u001b[1;32m----> 2\u001b[1;33m \u001b[0mprint\u001b[0m\u001b[1;33m(\u001b[0m\u001b[1;34m\"Your number squared is\"\u001b[0m\u001b[1;33m,\u001b[0m \u001b[0mnumber\u001b[0m\u001b[1;33m*\u001b[0m\u001b[0mnumber\u001b[0m\u001b[1;33m)\u001b[0m\u001b[1;33m\u001b[0m\u001b[0m\n\u001b[0m",
      "\u001b[1;31mTypeError\u001b[0m: can't multiply sequence by non-int of type 'str'"
     ]
    }
   ],
   "source": [
    "number = input(\"Please enter a number: \")\n",
    "print(\"Your number squared is\", number*number)"
   ]
  },
  {
   "cell_type": "markdown",
   "metadata": {},
   "source": [
    "Regardless of what the user enters, this results in an error because `number` is always a string and you can't multiply two strings together."
   ]
  },
  {
   "cell_type": "markdown",
   "metadata": {
    "slideshow": {
     "slide_type": "subslide"
    }
   },
   "source": [
    "You can get around this by type casting `number` to a float."
   ]
  },
  {
   "cell_type": "code",
   "execution_count": 11,
   "metadata": {
    "collapsed": false
   },
   "outputs": [
    {
     "name": "stdout",
     "output_type": "stream",
     "text": [
      "Please enter a number: 5\n",
      "Your number squared is 25.0\n"
     ]
    }
   ],
   "source": [
    "number = input(\"Please enter a number: \")\n",
    "number = float(number)\n",
    "print(\"Your number squared is\", number*number)"
   ]
  },
  {
   "cell_type": "markdown",
   "metadata": {
    "slideshow": {
     "slide_type": "subslide"
    }
   },
   "source": [
    "### Exercise\n",
    "\n",
    "Write some code that asks the user for two numbers, then shows the result when you add them, and when you multiply them."
   ]
  },
  {
   "cell_type": "markdown",
   "metadata": {
    "slideshow": {
     "slide_type": "subslide"
    }
   },
   "source": [
    "### Answer"
   ]
  },
  {
   "cell_type": "code",
   "execution_count": 12,
   "metadata": {
    "collapsed": false
   },
   "outputs": [
    {
     "name": "stdout",
     "output_type": "stream",
     "text": [
      "Enter a number: 5\n",
      "Enter another number: 6\n",
      "Their sum is 11.0\n",
      "Their product is 30.0\n"
     ]
    }
   ],
   "source": [
    "a = input(\"Enter a number: \")\n",
    "b = input(\"Enter another number: \")\n",
    "\n",
    "a = float(a)\n",
    "b = float(b)\n",
    "\n",
    "print(\"Their sum is\", a + b)\n",
    "print(\"Their product is\", a*b)"
   ]
  },
  {
   "cell_type": "markdown",
   "metadata": {
    "slideshow": {
     "slide_type": "slide"
    }
   },
   "source": [
    "## Modules\n",
    "\n",
    "Python offers relatively few basic functions, most of which we've already seen. In addition to these however, Python offers a large assortment of **modules** that contain many more useful functions. \n",
    "\n",
    "To use functions from a module in your program you have to **import** the module, by writing the line `import <modulename>` at the top of your code. You can then use all the functions in the module, although you will have to precede the function calls with the name of the module and a period."
   ]
  },
  {
   "cell_type": "markdown",
   "metadata": {
    "slideshow": {
     "slide_type": "subslide"
    }
   },
   "source": [
    "For example, to take the square root of a number we can use the `sqrt()` function in the `math` module."
   ]
  },
  {
   "cell_type": "code",
   "execution_count": 13,
   "metadata": {
    "collapsed": false
   },
   "outputs": [
    {
     "name": "stdout",
     "output_type": "stream",
     "text": [
      "1.4142135623730951\n"
     ]
    }
   ],
   "source": [
    "import math\n",
    "\n",
    "print(math.sqrt(2))"
   ]
  },
  {
   "cell_type": "markdown",
   "metadata": {
    "slideshow": {
     "slide_type": "subslide"
    }
   },
   "source": [
    "Alternatively, we can import specific functions from a module by stating `from <modulename> import <function1>, <function2> ...`. The advantage of importing specific functions from a module is that this saves us from typing the module name every time we call the function."
   ]
  },
  {
   "cell_type": "code",
   "execution_count": 14,
   "metadata": {
    "collapsed": false
   },
   "outputs": [
    {
     "name": "stdout",
     "output_type": "stream",
     "text": [
      "1.4142135623730951\n"
     ]
    }
   ],
   "source": [
    "from math import sqrt\n",
    "\n",
    "print(sqrt(2))"
   ]
  },
  {
   "cell_type": "markdown",
   "metadata": {
    "slideshow": {
     "slide_type": "subslide"
    }
   },
   "source": [
    "Occasionally we may want to rename either a function or an entire module. This could be to reduce the amount of typing (shortening the name of function/module) or to avoid confusion when multiple modules have functions with the same name. To do this we use the `as` keyword."
   ]
  },
  {
   "cell_type": "code",
   "execution_count": 15,
   "metadata": {
    "collapsed": false
   },
   "outputs": [
    {
     "name": "stdout",
     "output_type": "stream",
     "text": [
      "1.4142135623730951\n"
     ]
    }
   ],
   "source": [
    "from math import sqrt as square_root\n",
    "\n",
    "print(square_root(2))"
   ]
  },
  {
   "cell_type": "markdown",
   "metadata": {
    "slideshow": {
     "slide_type": "subslide"
    }
   },
   "source": [
    "We'll go over a couple useful modules now. Many more exist and in fact you can create your own as we'll see later."
   ]
  },
  {
   "cell_type": "markdown",
   "metadata": {
    "slideshow": {
     "slide_type": "subslide"
    }
   },
   "source": [
    "### `math`\n",
    "\n",
    "The `math` module contains useful mathematical functions. This module contains dozens of functions including:\n",
    "* `exp()` gets one numerical parameter and returns $e$ to the power of that parameter. If\n",
    "you do not remember e from math class: $e$ is a special value that has many interesting\n",
    "properties, which have applications in physics, maths, and statistics.\n",
    "* `log()` gets one numerical parameter and returns the natural logarithm of that parameter.\n",
    "The natural logarithm is the value which, when $e$ is raised to the power of\n",
    "that value, gives the requested parameter. Just like $e$, the natural logarithm has many\n",
    "applications in physics, maths, and statistics.\n",
    "* `log10()` gets one numerical parameter and returns the base-10 logarithm of that parameter.\n",
    "* `sqrt()` gets one numerical parameter and returns the square root of that parameter."
   ]
  },
  {
   "cell_type": "code",
   "execution_count": 17,
   "metadata": {
    "collapsed": false,
    "slideshow": {
     "slide_type": "subslide"
    }
   },
   "outputs": [
    {
     "name": "stdout",
     "output_type": "stream",
     "text": [
      "The value of e is approximately 2.718281828459045\n",
      "e squared is 7.38905609893065\n",
      "which means that log( 7.38905609893065 ) is 2.0\n"
     ]
    }
   ],
   "source": [
    "from math import exp , log\n",
    "\n",
    "print( \"The value of e is approximately\", exp( 1 ) )\n",
    "e_sqr = exp( 2 )\n",
    "print( \"e squared is\", e_sqr )\n",
    "print( \"which means that log(\", e_sqr , \") is\", log( e_sqr ) )"
   ]
  },
  {
   "cell_type": "markdown",
   "metadata": {
    "slideshow": {
     "slide_type": "subslide"
    }
   },
   "source": [
    "### `random`\n",
    "\n",
    "It is not possible for digital computers to generate actual random numbers, however they can generate numbers that appear for all intents and purposes random. These are called pseduo-random numbers. The `random` module contains functions that generate pseudo-random numbers. \n",
    "\n",
    "* `random()` gets no parameters, and returns a random float in the range [0, 1), i.e., a\n",
    "range that includes 0.0, but excludes 1.0.\n",
    "* `randint()` gets two parameters, both integers, and the first should be smaller than\n",
    "or equal to the second. It returns a random integer in the range for which the two\n",
    "parameters are boundaries, e.g., `randint(2,5)` returns 2, 3, 4, or 5, with an equal\n",
    "chance for each of them\n",
    "* `seed()` initializes the random number generator of Python. If you want a sequence of\n",
    "random numbers that are always the same, start by calling `seed()` with a fixed value\n",
    "as parameter, for instance, 0. This can be useful for testing purposes. If you want\n",
    "to re-initialize the random number generator so that it starts behaving completely\n",
    "randomly again, call `seed()` without any parameters."
   ]
  },
  {
   "cell_type": "code",
   "execution_count": 16,
   "metadata": {
    "collapsed": false,
    "slideshow": {
     "slide_type": "subslide"
    }
   },
   "outputs": [
    {
     "name": "stdout",
     "output_type": "stream",
     "text": [
      "A random number between 1 and 10 is 1\n",
      "Another is 4\n",
      "3 random numbers are: 0.8444218515250481 0.7579544029403025 0.420571580830845\n",
      "The same 3 numbers are: 0.8444218515250481 0.7579544029403025 0.420571580830845\n"
     ]
    }
   ],
   "source": [
    "from random import random , randint , seed\n",
    "\n",
    "seed()\n",
    "print( \"A random number between 1 and 10 is\", randint( 1, 10 ) )\n",
    "print( \"Another is\", randint( 1, 10 ) )\n",
    "\n",
    "seed( 0 )\n",
    "print( \"3 random numbers are:\", random(), random(), random() )\n",
    "seed( 0 )\n",
    "print( \"The same 3 numbers are:\", random(), random(), random() )"
   ]
  },
  {
   "cell_type": "markdown",
   "metadata": {
    "slideshow": {
     "slide_type": "slide"
    }
   },
   "source": [
    "## Exercises\n",
    "\n",
    "1) (Exercise 5.1 in text) Ask the user to enter a string. Then print the length of that string.\n",
    "\n",
    "2) (Exercise 5.3 in text) Ask the user to enter three numbers. Then print the largest, the smallest,\n",
    "and their average, rounded to 2 decimals."
   ]
  }
 ],
 "metadata": {
  "celltoolbar": "Slideshow",
  "kernelspec": {
   "display_name": "Python [Root]",
   "language": "python",
   "name": "Python [Root]"
  },
  "language_info": {
   "codemirror_mode": {
    "name": "ipython",
    "version": 3
   },
   "file_extension": ".py",
   "mimetype": "text/x-python",
   "name": "python",
   "nbconvert_exporter": "python",
   "pygments_lexer": "ipython3",
   "version": "3.5.2"
  }
 },
 "nbformat": 4,
 "nbformat_minor": 0
}
