{
 "cells": [
  {
   "cell_type": "markdown",
   "metadata": {
    "slideshow": {
     "slide_type": "slide"
    }
   },
   "source": [
    "# Iterations\n"
   ]
  },
  {
   "cell_type": "markdown",
   "metadata": {
    "slideshow": {
     "slide_type": "slide"
    }
   },
   "source": [
    "\n",
    "One of the many useful things a computer can do is repetitious tasks. All programming languages support repetitions. The general class of programming constructs that all us to program repetitions are called **iterations**. A more common term for such tasks in **loops**. \n",
    "\n",
    "Often student who are new to programming find loops to be the first challenging concept in programming. Loops are such a basic and important part of programming however that it is essential that they undertand loops completely."
   ]
  },
  {
   "cell_type": "markdown",
   "metadata": {
    "slideshow": {
     "slide_type": "slide"
    }
   },
   "source": [
    "## `while` loop\n",
    "\n",
    "Suppose we want to print the numbers 1 through 5. We can do this by calling the print command five times:"
   ]
  },
  {
   "cell_type": "code",
   "execution_count": 1,
   "metadata": {
    "collapsed": false
   },
   "outputs": [
    {
     "name": "stdout",
     "output_type": "stream",
     "text": [
      "1\n",
      "2\n",
      "3\n",
      "4\n",
      "5\n"
     ]
    }
   ],
   "source": [
    "print(1)\n",
    "print(2)\n",
    "print(3)\n",
    "print(4)\n",
    "print(5)"
   ]
  },
  {
   "cell_type": "markdown",
   "metadata": {
    "slideshow": {
     "slide_type": "subslide"
    }
   },
   "source": [
    "What if instead we wanted to print the numbers 1 through 100?\n",
    "\n",
    "We could of course call the print command 100 times. This would be tedius however. A better way would be to use a **`while` loop**. "
   ]
  },
  {
   "cell_type": "markdown",
   "metadata": {
    "slideshow": {
     "slide_type": "subslide"
    }
   },
   "source": [
    "A `while` loop is declared using the following syntax:\n",
    "\n",
    "    while <boolean expression>:\n",
    "        <statements>\n",
    "\n",
    "Just like with `if` statements the while loop tests a boolean expression and if the expression evaluates to `True` it executes the code block below it. However, unlike the `if` statement, once the code block is finished the code \"loops\" back to the boolean expression and tests it again. If it still evaluates to `True`, the code block is executed again. This keeps repeating until the expression evaluates to `False`. \n",
    "\n",
    "Note that if the boolean expression evaluates to `False` the first time we check it, then the code block below `while` is skipped completely, just like with an `if` statement."
   ]
  },
  {
   "cell_type": "markdown",
   "metadata": {
    "slideshow": {
     "slide_type": "subslide"
    }
   },
   "source": [
    "![while flowchart](https://github.com/lukasbystricky/ISC-3313/blob/master/lectures/chapter5/images/while_flow.png?raw=true)"
   ]
  },
  {
   "cell_type": "markdown",
   "metadata": {
    "slideshow": {
     "slide_type": "subslide"
    }
   },
   "source": [
    "Let's make a while loop that prints out the numbers 1 to 100."
   ]
  },
  {
   "cell_type": "code",
   "execution_count": null,
   "metadata": {
    "collapsed": true
   },
   "outputs": [],
   "source": [
    "num = 1\n",
    "while num <= 100:\n",
    "    print(num)\n",
    "    num += 1\n",
    "print(\"Done\")"
   ]
  },
  {
   "cell_type": "markdown",
   "metadata": {
    "slideshow": {
     "slide_type": "subslide"
    }
   },
   "source": [
    "Let's look in detail at how this example works. \n",
    "\n",
    "Initially we set `num` to be 1. We then test the expression `num <= 100`. This evaluates to `True` so we execute the code block:\n",
    "  \n",
    "     print(num)\n",
    "     num += 1\n",
    "     \n",
    "We print the number and add 1 to `num`. Now `num` is 2. We go back to the top of the loop and test `num <= 100`. This is still true, so we execute the same code block as before, increasing `num` to 3. We go back to the top of the block...\n",
    "\n",
    "We keep doing this until eventually `num` gets to 101. Now `num <= 100` evaluates to `False`. We then skip the body of the block and print \"Done\"."
   ]
  },
  {
   "cell_type": "markdown",
   "metadata": {
    "slideshow": {
     "slide_type": "subslide"
    }
   },
   "source": [
    "### Exercise\n",
    "\n",
    "Print all the odd numbers from 1 to 19."
   ]
  },
  {
   "cell_type": "markdown",
   "metadata": {
    "slideshow": {
     "slide_type": "subslide"
    }
   },
   "source": [
    "### Answer"
   ]
  },
  {
   "cell_type": "code",
   "execution_count": 3,
   "metadata": {
    "collapsed": false
   },
   "outputs": [
    {
     "name": "stdout",
     "output_type": "stream",
     "text": [
      "1\n",
      "3\n",
      "5\n",
      "7\n",
      "9\n",
      "11\n",
      "13\n",
      "15\n",
      "17\n",
      "19\n"
     ]
    }
   ],
   "source": [
    "num = 1\n",
    "while num <= 19:\n",
    "    print(num)\n",
    "    num += 2 # add 2 to get the next odd number"
   ]
  },
  {
   "cell_type": "markdown",
   "metadata": {
    "slideshow": {
     "slide_type": "subslide"
    }
   },
   "source": [
    "Let's look at another example. Suppose we want to ask the user for five numbers and print the sum of those numbers."
   ]
  },
  {
   "cell_type": "code",
   "execution_count": 5,
   "metadata": {
    "collapsed": false
   },
   "outputs": [
    {
     "name": "stdout",
     "output_type": "stream",
     "text": [
      "Please enter a number: 1.1\n",
      "Please enter a number: 2.1\n",
      "Please enter a number: 3\n",
      "Please enter a number: 4\n",
      "Please enter a number: 1\n",
      "The sum of those numbers is 11.2\n"
     ]
    }
   ],
   "source": [
    "total = 0\n",
    "count = 0\n",
    "\n",
    "while count < 5:\n",
    "    num = float(input(\"Please enter a number: \")) # ask user for number and cast it to a float\n",
    "    total += num # add to total\n",
    "    \n",
    "    count += 1 # increment count\n",
    "\n",
    "print(\"The sum of those numbers is\", total)"
   ]
  },
  {
   "cell_type": "markdown",
   "metadata": {
    "slideshow": {
     "slide_type": "subslide"
    }
   },
   "source": [
    "In this example there are two variables used. `total` is used to keep track of the sum. Initially it is 0, but every time we get a new number we add it to `total`. \n",
    "\n",
    "`count` keeps track of the number of times we have asked to user for input. Every time we ask the user for a new number we increase `count` by 1. Once `count` reaches 5, we stop the loop and print the `total`."
   ]
  },
  {
   "cell_type": "markdown",
   "metadata": {
    "slideshow": {
     "slide_type": "subslide"
    }
   },
   "source": [
    "### Exercise\n",
    "\n",
    "Create a loop that lets the user keep entering numbers until they enter a zero. Print the sum of these numbers."
   ]
  },
  {
   "cell_type": "markdown",
   "metadata": {
    "slideshow": {
     "slide_type": "subslide"
    }
   },
   "source": [
    "### Answer"
   ]
  },
  {
   "cell_type": "code",
   "execution_count": 9,
   "metadata": {
    "collapsed": false
   },
   "outputs": [
    {
     "name": "stdout",
     "output_type": "stream",
     "text": [
      "Please enter a number: 6\n",
      "Please enter a number: 4\n",
      "Please enter a number: 7\n",
      "Please enter a number: 9\n",
      "Please enter a number: 10\n",
      "Please enter a number: 9\n",
      "Please enter a number: 0\n",
      "The sum of those numbers is 45.0\n"
     ]
    }
   ],
   "source": [
    "# initialize total\n",
    "total = 0\n",
    "\n",
    "# read in a number\n",
    "num = float(input(\"Please enter a number: \"))\n",
    "\n",
    "while num != 0:\n",
    "    # add num to total\n",
    "    total += num\n",
    "    \n",
    "    # read in another number\n",
    "    num = float(input(\"Please enter a number: \"))\n",
    "\n",
    "print(\"The sum of those numbers is\", total)\n"
   ]
  },
  {
   "cell_type": "markdown",
   "metadata": {
    "slideshow": {
     "slide_type": "subslide"
    }
   },
   "source": [
    "### Endless loops\n",
    "\n",
    "In order for a while loop to terminate, eventually the boolean expression must evaluate to `False`. If it never does this, then the code becomes stuck in an **endless** or **infinite** loop. In situations like this the program \"hangs\", i.e. it sits there and appears to do nothing. "
   ]
  },
  {
   "cell_type": "markdown",
   "metadata": {
    "slideshow": {
     "slide_type": "subslide"
    }
   },
   "source": [
    "Consider the following code:"
   ]
  },
  {
   "cell_type": "code",
   "execution_count": null,
   "metadata": {
    "collapsed": true
   },
   "outputs": [],
   "source": [
    "number = 1\n",
    "total = 0\n",
    "while (number*number) % 1000 != 0:\n",
    "    total += number\n",
    "\n",
    "print(\"Total is\", total)"
   ]
  },
  {
   "cell_type": "markdown",
   "metadata": {
    "slideshow": {
     "slide_type": "-"
    }
   },
   "source": [
    "Here `number` starts at 1, so `(number*number) % 1000` is 1, and not 0, so we enter the loop. `number` is never changed in the loop so every time we evaluate the boolean expression it will always evaluate to `True` so we never exit the loop."
   ]
  },
  {
   "cell_type": "markdown",
   "metadata": {
    "slideshow": {
     "slide_type": "subslide"
    }
   },
   "source": [
    "In most editors, if you end up entering an infinite loop you can kill Python by typing <kbd>Ctrl</kbd>-<kbd>C</kbd>."
   ]
  },
  {
   "cell_type": "markdown",
   "metadata": {
    "slideshow": {
     "slide_type": "subslide"
    }
   },
   "source": [
    "### Exercise\n",
    "\n",
    "The factorial of a positive integer is the product of all positive integers that are lower than it (excluding 0). For example the factorial of 5, written as 5! is: $5\\times 4\\times 3\\times 2\\times 1= 120$. Write a while loop that calculates the factorial of a number."
   ]
  },
  {
   "cell_type": "markdown",
   "metadata": {},
   "source": [
    "### Answer"
   ]
  },
  {
   "cell_type": "code",
   "execution_count": 12,
   "metadata": {
    "collapsed": false,
    "slideshow": {
     "slide_type": "subslide"
    }
   },
   "outputs": [
    {
     "name": "stdout",
     "output_type": "stream",
     "text": [
      "The factorial of 5 is 120\n"
     ]
    }
   ],
   "source": [
    "num = 5\n",
    "f = num\n",
    "factorial = num\n",
    "\n",
    "while f > 1:\n",
    "    f -= 1\n",
    "    factorial *= f\n",
    "    \n",
    "print(\"The factorial of\", num, \"is\", factorial)"
   ]
  },
  {
   "cell_type": "markdown",
   "metadata": {
    "slideshow": {
     "slide_type": "slide"
    }
   },
   "source": [
    "## `for` loop\n",
    "\n",
    "An alternative way of implementing loop is by using a `for` loop. These loops are often easier and safer to use than while loops ,mainly because it is difficult to generate an infinite for loop. \n",
    "\n",
    "Everything the can be written as a for loop can be written as a while loop and vice versa (despite what your textbook says).\n"
   ]
  },
  {
   "cell_type": "markdown",
   "metadata": {
    "slideshow": {
     "slide_type": "subslide"
    }
   },
   "source": [
    "The syntax of a for loop is:\n",
    "\n",
    "    for <variable> in <collection>:\n",
    "        <statements>\n",
    "        \n",
    "A for loop gets presented with a collection of items, and it processes these items, in order, one by one. Every cycle through the loop will put one item in the variable given next to `for` and can be used in the code block under `for`. This variable does not need to exist before the for loop is encountered, and it exists after the for loop has finished."
   ]
  },
  {
   "cell_type": "markdown",
   "metadata": {
    "slideshow": {
     "slide_type": "subslide"
    }
   },
   "source": [
    "Let's look at an example. \n",
    "\n",
    "The only collection we've introduced so far is the string. A string is a collection of characters. "
   ]
  },
  {
   "cell_type": "code",
   "execution_count": 13,
   "metadata": {
    "collapsed": false
   },
   "outputs": [
    {
     "name": "stdout",
     "output_type": "stream",
     "text": [
      "b\n",
      "a\n",
      "n\n",
      "a\n",
      "n\n",
      "a\n",
      "Done\n"
     ]
    }
   ],
   "source": [
    "for letter in \"banana\":\n",
    "    print(letter)\n",
    "    \n",
    "print(\"Done\")"
   ]
  },
  {
   "cell_type": "markdown",
   "metadata": {
    "slideshow": {
     "slide_type": "subslide"
    }
   },
   "source": [
    "When the for loop is encountered Python takes the collection, in this case the string \"banana\" into what is basically a list of all the letters in the string in the order that they appear in the string. \n",
    "\n",
    "Python then takes the first letter of those letters, \"b\" and assigns it to the variable `letter`. It then executes the block below `for`. This is only a single line of code. Python prints `letter` then loops back to `for`. It now assigns `letter` the next letter, \"a\" and repeats the code block.\n",
    "\n",
    "This happens for all the letters in \"banana\" and then for loop ends.\n",
    "\n",
    "Note that in for loops you do not have to explicity increase some variable that grabs the next letter. This is all done automatically."
   ]
  },
  {
   "cell_type": "markdown",
   "metadata": {
    "slideshow": {
     "slide_type": "subslide"
    }
   },
   "source": [
    "### Using a variable as a collection\n",
    "\n",
    "In the previous example the string \"banana\" was used as a collection. This could equally be a variable that contains a string."
   ]
  },
  {
   "cell_type": "code",
   "execution_count": 14,
   "metadata": {
    "collapsed": false
   },
   "outputs": [
    {
     "name": "stdout",
     "output_type": "stream",
     "text": [
      "b\n",
      "a\n",
      "n\n",
      "a\n",
      "n\n",
      "a\n",
      "Done\n"
     ]
    }
   ],
   "source": [
    "fruit = \"banana\"\n",
    "for letter in fruit:\n",
    "    print(letter)\n",
    "    \n",
    "print(\"Done\")"
   ]
  },
  {
   "cell_type": "markdown",
   "metadata": {
    "slideshow": {
     "slide_type": "subslide"
    }
   },
   "source": [
    "What happens if the programmer changes the contents of the variable `fruit` inside the for loop? For example:"
   ]
  },
  {
   "cell_type": "code",
   "execution_count": 15,
   "metadata": {
    "collapsed": false
   },
   "outputs": [
    {
     "name": "stdout",
     "output_type": "stream",
     "text": [
      "b\n",
      "a\n",
      "n\n",
      "a\n",
      "n\n",
      "a\n",
      "Done\n"
     ]
    }
   ],
   "source": [
    "fruit = \"banana\"\n",
    "for letter in fruit:\n",
    "    print(letter)\n",
    "    if letter == \"n\":\n",
    "        fruit = \"orange\"\n",
    "    \n",
    "print(\"Done\")"
   ]
  },
  {
   "cell_type": "markdown",
   "metadata": {
    "slideshow": {
     "slide_type": "subslide"
    }
   },
   "source": [
    "Changing the contents of the variable `fruit` in the loop has no effect on the loop's processing. The sequence of characters that the loop processes is only defined once, when the for loop is first encountered. Changing the value of `fruit` to \"organge\" inside the loop does not stop the loop from processing \"banana\"."
   ]
  },
  {
   "cell_type": "markdown",
   "metadata": {
    "slideshow": {
     "slide_type": "subslide"
    }
   },
   "source": [
    "### range\n",
    "\n",
    "Python offers a `range()` function (actually it's a class as of Python 3) that generates a collection of sequential numbers. These are often used in conjunction with for loops.\n",
    "\n",
    "The simplest call to `range()` has a single parameter, which is a number. It will generate all integers, starting at 0 and going up to but *not including* the parameter."
   ]
  },
  {
   "cell_type": "code",
   "execution_count": 16,
   "metadata": {
    "collapsed": false
   },
   "outputs": [
    {
     "name": "stdout",
     "output_type": "stream",
     "text": [
      "0\n",
      "1\n",
      "2\n",
      "3\n",
      "4\n",
      "5\n",
      "6\n",
      "7\n",
      "8\n",
      "9\n"
     ]
    }
   ],
   "source": [
    "for x in range(10):\n",
    "    print(x)"
   ]
  },
  {
   "cell_type": "markdown",
   "metadata": {
    "slideshow": {
     "slide_type": "subslide"
    }
   },
   "source": [
    "`range()` can take multiple parameters. If you give it two parameters, then the first will be the starting number (default is 0) and the second will be the \"up to but not including\" number. \n",
    "\n",
    "If you give it three parameters, then the third will be a step size (default is 1). You can choose a negative step size if you want to count down. With a negative step size the starting number must be bigger than the ending number."
   ]
  },
  {
   "cell_type": "code",
   "execution_count": 17,
   "metadata": {
    "collapsed": false
   },
   "outputs": [
    {
     "name": "stdout",
     "output_type": "stream",
     "text": [
      "1\n",
      "3\n",
      "5\n",
      "7\n",
      "9\n"
     ]
    }
   ],
   "source": [
    "for x in range(1, 11, 2):\n",
    "    print(x)"
   ]
  },
  {
   "cell_type": "markdown",
   "metadata": {
    "slideshow": {
     "slide_type": "subslide"
    }
   },
   "source": [
    "### Exercise\n",
    "\n",
    "Use the `range()` command to print multiples of 3, starting at 21 counting down to 3."
   ]
  },
  {
   "cell_type": "markdown",
   "metadata": {
    "slideshow": {
     "slide_type": "subslide"
    }
   },
   "source": [
    "### Answer"
   ]
  },
  {
   "cell_type": "code",
   "execution_count": 20,
   "metadata": {
    "collapsed": false
   },
   "outputs": [
    {
     "name": "stdout",
     "output_type": "stream",
     "text": [
      "21\n",
      "18\n",
      "15\n",
      "12\n",
      "9\n",
      "6\n",
      "3\n"
     ]
    }
   ],
   "source": [
    "for x in range(21,2,-3):\n",
    "    print(x)"
   ]
  },
  {
   "cell_type": "markdown",
   "metadata": {
    "slideshow": {
     "slide_type": "subslide"
    }
   },
   "source": [
    "### manual collections\n",
    "\n",
    "You may want to use a for loop to cycle through items in a collection that you create manually. You can do so by lising all your items between parentheses. This defines a **tuple** for the items in your collection. "
   ]
  },
  {
   "cell_type": "code",
   "execution_count": 21,
   "metadata": {
    "collapsed": false
   },
   "outputs": [
    {
     "name": "stdout",
     "output_type": "stream",
     "text": [
      "10\n",
      "100\n",
      "1000\n",
      "10000\n"
     ]
    }
   ],
   "source": [
    "for x in (10, 100, 1000, 10000):\n",
    "    print(x)"
   ]
  },
  {
   "cell_type": "code",
   "execution_count": 22,
   "metadata": {
    "collapsed": false
   },
   "outputs": [
    {
     "name": "stdout",
     "output_type": "stream",
     "text": [
      "apple\n",
      "pear\n",
      "organge\n",
      "banana\n"
     ]
    }
   ],
   "source": [
    "for x in (\"apple\", \"pear\", \"organge\", \"banana\"):\n",
    "    print(x)"
   ]
  },
  {
   "cell_type": "markdown",
   "metadata": {
    "slideshow": {
     "slide_type": "subslide"
    }
   },
   "source": [
    "### Exercise\n",
    "\n",
    "You already created code with a while loop that asked the user for five numbers, and displayed their total. Create code for this task, but now use a for loop."
   ]
  },
  {
   "cell_type": "markdown",
   "metadata": {
    "slideshow": {
     "slide_type": "subslide"
    }
   },
   "source": [
    "### Answer"
   ]
  },
  {
   "cell_type": "code",
   "execution_count": 23,
   "metadata": {
    "collapsed": false
   },
   "outputs": [
    {
     "name": "stdout",
     "output_type": "stream",
     "text": [
      "Please enter a number: 1\n",
      "Please enter a number: 2.3\n",
      "Please enter a number: 5.4\n",
      "Please enter a number: 3.0\n",
      "Please enter a number: 2.9\n",
      "The sum of your numbers is 14.6\n"
     ]
    }
   ],
   "source": [
    "total = 0\n",
    "\n",
    "for i in range(5):\n",
    "    num = float(input(\"Please enter a number: \"))\n",
    "    total += num\n",
    "    \n",
    "print(\"The sum of your numbers is\", total)"
   ]
  },
  {
   "cell_type": "markdown",
   "metadata": {
    "slideshow": {
     "slide_type": "slide"
    }
   },
   "source": [
    "## Nested loops\n",
    "\n",
    "You can put loops inside another loop. \n",
    "\n",
    "This is called **nesting**. We saw nested if statements earlier. "
   ]
  },
  {
   "cell_type": "markdown",
   "metadata": {
    "slideshow": {
     "slide_type": "subslide"
    }
   },
   "source": [
    "Let's look at a double nested loop, i.e. a loop that contains one other loop. Usually these loops are known as **inner loops** and **outer loops**. The outer loop contains the inner loop as part of its body."
   ]
  },
  {
   "cell_type": "code",
   "execution_count": 26,
   "metadata": {
    "collapsed": false,
    "slideshow": {
     "slide_type": "-"
    }
   },
   "outputs": [
    {
     "name": "stdout",
     "output_type": "stream",
     "text": [
      "Entering the outer loop for i = 0\n",
      "    Entering the inner loop for j = 0\n",
      "    (i,j) = ( 0 0 )\n",
      "    Leaving the inner loop for j = 0\n",
      "    Entering the inner loop for j = 1\n",
      "    (i,j) = ( 0 1 )\n",
      "    Leaving the inner loop for j = 1\n",
      "Leaving the outer loop for i = 0\n",
      "Entering the outer loop for i = 1\n",
      "    Entering the inner loop for j = 0\n",
      "    (i,j) = ( 1 0 )\n",
      "    Leaving the inner loop for j = 0\n",
      "    Entering the inner loop for j = 1\n",
      "    (i,j) = ( 1 1 )\n",
      "    Leaving the inner loop for j = 1\n",
      "Leaving the outer loop for i = 1\n"
     ]
    }
   ],
   "source": [
    "for i in range( 2 ):\n",
    "    print( \"Entering the outer loop for i =\", i )\n",
    "    for j in range( 2 ):\n",
    "        print( \"    Entering the inner loop for j =\", j )\n",
    "        print( \"    (i,j) = (\", i, j, \")\")\n",
    "        print( \"    Leaving the inner loop for j =\", j )\n",
    "    print( \"Leaving the outer loop for i =\", i )"
   ]
  },
  {
   "cell_type": "markdown",
   "metadata": {
    "slideshow": {
     "slide_type": "subslide"
    }
   },
   "source": [
    "Note that the loop variable `i` for the outer loop is accessible inside the inner loop. \n",
    "\n",
    "Suppose you want to print all pairs `(i,j)` where `i` and `j` can take on the values 0 to 3, but `j` must be higher than `i`."
   ]
  },
  {
   "cell_type": "code",
   "execution_count": 32,
   "metadata": {
    "collapsed": false
   },
   "outputs": [
    {
     "name": "stdout",
     "output_type": "stream",
     "text": [
      "    (i,j) = ( 0 1 )\n",
      "    (i,j) = ( 0 2 )\n",
      "    (i,j) = ( 0 3 )\n",
      "    (i,j) = ( 1 2 )\n",
      "    (i,j) = ( 1 3 )\n",
      "    (i,j) = ( 2 3 )\n"
     ]
    }
   ],
   "source": [
    "for i in range( 4 ):\n",
    "    for j in range( i + 1, 4 ):\n",
    "        print( \"    (i,j) = (\", i, j, \")\")"
   ]
  },
  {
   "cell_type": "markdown",
   "metadata": {
    "slideshow": {
     "slide_type": "subslide"
    }
   },
   "source": [
    "### Exercise\n",
    "\n",
    "Write code that prints all pairs `(i,j)` where `i` and `j` can take on the values 0 to 3, but they cannot be equal."
   ]
  },
  {
   "cell_type": "markdown",
   "metadata": {
    "slideshow": {
     "slide_type": "subslide"
    }
   },
   "source": [
    "### Answer"
   ]
  },
  {
   "cell_type": "code",
   "execution_count": 33,
   "metadata": {
    "collapsed": false
   },
   "outputs": [
    {
     "name": "stdout",
     "output_type": "stream",
     "text": [
      "    (i,j) = ( 0 1 )\n",
      "    (i,j) = ( 0 2 )\n",
      "    (i,j) = ( 0 3 )\n",
      "    (i,j) = ( 1 0 )\n",
      "    (i,j) = ( 1 2 )\n",
      "    (i,j) = ( 1 3 )\n",
      "    (i,j) = ( 2 0 )\n",
      "    (i,j) = ( 2 1 )\n",
      "    (i,j) = ( 2 3 )\n",
      "    (i,j) = ( 3 0 )\n",
      "    (i,j) = ( 3 1 )\n",
      "    (i,j) = ( 3 2 )\n"
     ]
    }
   ],
   "source": [
    "for i in range( 4 ):\n",
    "    for j in range( 4 ):\n",
    "        \n",
    "        if i != j:\n",
    "            print( \"    (i,j) = (\", i, j, \")\")"
   ]
  },
  {
   "cell_type": "markdown",
   "metadata": {
    "slideshow": {
     "slide_type": "subslide"
    }
   },
   "source": [
    "## Exercises\n",
    "\n",
    "1) Using the `randint()` function from the random module, write some code that simulates rolling a six sided dice. Keep rolling the dice until you roll a six and report the number of rolls necessary.\n",
    "\n",
    "2) Repeat step 1 one thousand times and report the average number of rolls necessary to roll a 6."
   ]
  },
  {
   "cell_type": "markdown",
   "metadata": {},
   "source": [
    "3) (Exercise 7.7 in text) Write a program that approximates p by using random numbers, as follows.\n",
    "\n",
    "Consider a square measuring 1 by 1. If you throw a dart into that square in a random location, the probability that it will have a distance of 1 or less to the lower left corner is $\\pi/4$. To see why that is, remember that the area of a circle with a radius of 1 is $\\pi$, so the area of a quarter circle is $\\pi/4$. Thus, if a dart lands in a random point in the square, the chance that it lands in the quarter circle with its centre at the lower left corner is $\\pi/4$. Therefore, if you throw $N$ darts into the square, and $M$ of those land inside a distance of 1 to the lower left corner, then $4M/N$ approximates $\\pi$ if $N$ is very large.\n",
    "\n",
    "The program holds a constant that determines how many darts it will simulate. It prints an\n",
    "approximation of $\\pi$ derived by simulating the throwing of that number of darts. Remember\n",
    "that the distance of a point $(x, y)$ to the lower-left corner is calculated as $\\sqrt{x^2 + y^2}$.\n",
    "You will need the `random()` function from the `random` module and the `sqrt()` function from the `math` module."
   ]
  }
 ],
 "metadata": {
  "celltoolbar": "Slideshow",
  "kernelspec": {
   "display_name": "Python [Root]",
   "language": "python",
   "name": "Python [Root]"
  },
  "language_info": {
   "codemirror_mode": {
    "name": "ipython",
    "version": 3
   },
   "file_extension": ".py",
   "mimetype": "text/x-python",
   "name": "python",
   "nbconvert_exporter": "python",
   "pygments_lexer": "ipython3",
   "version": "3.5.2"
  }
 },
 "nbformat": 4,
 "nbformat_minor": 0
}
