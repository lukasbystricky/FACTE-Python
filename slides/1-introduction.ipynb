{
 "cells": [
  {
   "cell_type": "markdown",
   "metadata": {
    "slideshow": {
     "slide_type": "slide"
    }
   },
   "source": [
    "# Python Workshop\n",
    "\n",
    "June 13th, 2017\n",
    "\n",
    "## Instructor \n",
    "Lukas Bystricky    \n",
    "Ph.D. Candidate Department of Scientific Computing    \n",
    "Florida State University   \n",
    "lb13f@my.fsu.edu   \n",
    "http://people.sc.fsu.edu/~lb13f/"
   ]
  },
  {
   "cell_type": "markdown",
   "metadata": {
    "slideshow": {
     "slide_type": "slide"
    }
   },
   "source": [
    "# Program Outline\n",
    "\n",
    "### Introduction\n",
    "* Why Python?\n",
    "* Installing Python\n",
    "* Running Python programs\n",
    "\n",
    "### Python Fundamentals\n",
    "* Objects\n",
    "* Functions and modules\n",
    "* Conditional statements\n",
    "* Loops and repetition\n",
    "* Custom functions and modules\n",
    "* Resources\n",
    "\n",
    "### Projects\n",
    "* Random number game\n",
    "* Image processing"
   ]
  },
  {
   "cell_type": "markdown",
   "metadata": {
    "collapsed": true,
    "slideshow": {
     "slide_type": "slide"
    }
   },
   "source": [
    "# Python\n",
    "\n",
    "## What is Python?\n",
    "\n",
    "Python is a free, high level programming language. It is considered to be one of the easiest programming languages to learn, and accessible to high school and maybe even middle school students. \n",
    "\n",
    "Plenty of resources (online and in print) exist that cover how to teach Python topics to high school students."
   ]
  },
  {
   "cell_type": "markdown",
   "metadata": {
    "slideshow": {
     "slide_type": "subslide"
    }
   },
   "source": [
    "## What can we do with Python?\n",
    "\n",
    "In US elections a congressman is elected from each of the 27 congresional districts in Florida. Designing congressional districts is a controversial process. It is well known that for congressional districts for elections can be constructed in such a way as to create a partisan advantage. This is known as *gerrymandering*. In 2014 Florida underwent redistricting, however a judge ruled that the resulting districts did not meet state laws.  \n",
    "\n",
    "![congressional map](images/florida_map.png)"
   ]
  },
  {
   "cell_type": "markdown",
   "metadata": {
    "slideshow": {
     "slide_type": "subslide"
    }
   },
   "source": [
    "Is it possible to programatically create a more fair congressional district map? \n",
    "\n",
    "The districts must satisfy the following properties:\n",
    "* they must be contiguous \n",
    "* they must contain equal populations\n",
    "\n",
    "Last September (2016) a colleague and I decided to participate in a program that introduces freshman and sophmore students at FSU to academic research. The student we selected was a freshman with **no programming experience**. Using census data, we aksed him to implement an algorithm to answer this question."
   ]
  },
  {
   "cell_type": "markdown",
   "metadata": {
    "slideshow": {
     "slide_type": "subslide"
    }
   },
   "source": [
    "By December, he came up with the following map:\n",
    "\n",
    "![florida cvt](images/CVTFlorida.png)\n",
    "\n",
    "Each of the districts not has equal population, but also a more regular (polygonal) shape compared to the current congressional districts. "
   ]
  },
  {
   "cell_type": "markdown",
   "metadata": {
    "slideshow": {
     "slide_type": "subslide"
    }
   },
   "source": [
    "The student has continued to work with us throughout the spring and summer semesters. Some of his other projects include looking at image processing.\n",
    "\n",
    "![birds](images/Combo_bird12_2_2.6.png)"
   ]
  },
  {
   "cell_type": "markdown",
   "metadata": {
    "slideshow": {
     "slide_type": "subslide"
    }
   },
   "source": [
    "Currently he is working on partitioning the globe into areas of equal population.\n",
    "\n",
    "![globe partition](images/sphere_example.png)"
   ]
  },
  {
   "cell_type": "markdown",
   "metadata": {
    "slideshow": {
     "slide_type": "subslide"
    }
   },
   "source": [
    "Remember, all this was done by a freshman student who had **no programming experience** when he started working with us last September. "
   ]
  },
  {
   "cell_type": "markdown",
   "metadata": {
    "slideshow": {
     "slide_type": "slide"
    }
   },
   "source": [
    "## Where can I find Python?\n",
    "\n",
    "The computers that you are sitting at already have Python installed. To install it on your own computers I reccomend installing [Annaconda](https://www.continuum.io/downloads). This will install Python as well as several other utilities that you may find useful later on. \n",
    "\n",
    "You'll find that there are two versions of Python, Python 2.x and Python 3.x. I'd reccomend the 3.x version. Some minor differences exist between the two and I'll explain those as we go along."
   ]
  },
  {
   "cell_type": "markdown",
   "metadata": {
    "collapsed": true,
    "slideshow": {
     "slide_type": "slide"
    }
   },
   "source": [
    "## How do I run Python?\n",
    "\n",
    "There are two ways to run Python. The first and simplest is through the interactive interpreter. The machines here are Macs so I will run through how to do this on a Mac. \n",
    "\n",
    "The first step is to open a terminal. To do this, click on the search icon in the upper right hand corner and type terminal followed by <kbd>return</kbd>.\n",
    "\n",
    "\n",
    "![terminal](images/terminal.gif)\n",
    "\n",
    "(Image courtesy of Moncef Belyamani)"
   ]
  },
  {
   "cell_type": "markdown",
   "metadata": {
    "slideshow": {
     "slide_type": "subslide"
    }
   },
   "source": [
    "Once you are inside terminal type \n",
    "\n",
    "     python"
   ]
  },
  {
   "cell_type": "markdown",
   "metadata": {},
   "source": [
    "![python interactive session](images/python.gif)\n",
    "\n",
    "(Image courtesy of Andreas Kirsch)"
   ]
  },
  {
   "cell_type": "markdown",
   "metadata": {
    "collapsed": true,
    "slideshow": {
     "slide_type": "subslide"
    }
   },
   "source": [
    "Congratulations on becoming a Python programmer! \n",
    "\n",
    "The interactive session acts just like a big programmable calculator. The other common way to run Python is by typing Python commands into a text file and running the entire text file at once. A text file containing Python commands is called a Python *script*. "
   ]
  },
  {
   "cell_type": "markdown",
   "metadata": {
    "slideshow": {
     "slide_type": "subslide"
    }
   },
   "source": [
    "Before we run scripts it is worthwhile knowing a little bit about terminal commands. Files on your computer are stored inside folders. You probably already knew this. When you save a file for the first time you are asked where you want to save it. You may choose to save it in \"Documents\". \"Documents\" is a folder. \n",
    "\n",
    "The terminal is a quick way to navigate folders and manipulate files and folders. There are dozens of useful terminal commands, however for our purposes we will limit ourselves to just five.\n",
    "1. `pwd` (present working directory) - prints the directory that we are in\n",
    "2. `ls` (list) - prints the names of all files and folders in our current directory\n",
    "3. `cd` (change directory) - lets us navigate to a different directory\n",
    "4. `mkdir` (make directory) - creates a new directory\n",
    "5. `rm` (remove) - deletes a file (NB: this does **not** move it to the recycling bin, it deletes it permanently -- be careful with this command)\n",
    "\n",
    "These commands work on Mac or on Linux. On Windows machines, a separate set of commands exists for the command prompt. "
   ]
  },
  {
   "cell_type": "markdown",
   "metadata": {
    "slideshow": {
     "slide_type": "subslide"
    }
   },
   "source": [
    "Let's test this all out. \n",
    "\n",
    "By default terminal should open in your \"home\" directory. However to make sure, let's type\n",
    "\n",
    "    cd ~\n",
    "\n",
    "The \"~\" symbol is shorthand for \"home directory\". Now you should be in your home directory. If you type\n",
    "\n",
    "    pwd\n",
    "    \n",
    "you should see the name of your home directory printed to the screen. "
   ]
  },
  {
   "cell_type": "markdown",
   "metadata": {
    "slideshow": {
     "slide_type": "subslide"
    }
   },
   "source": [
    "We'll create a new directory for this course. Type\n",
    "\n",
    "    mkdir python_workshop\n",
    "    \n",
    "to create the directory. Then type \n",
    "\n",
    "    cd python_workshop\n",
    "    \n",
    "to navigate to that directory."
   ]
  },
  {
   "cell_type": "markdown",
   "metadata": {
    "slideshow": {
     "slide_type": "subslide"
    }
   },
   "source": [
    "We are now ready to create a Python script. Open your favourite text editor and type the following commands:\n",
    "\n",
    "    a = \"Congratulations on running your first Python script!\"\n",
    "    print(a)\n",
    "    \n",
    "Close and save the file in the `python_workshop` directory as `first_script.py`."
   ]
  },
  {
   "cell_type": "markdown",
   "metadata": {
    "slideshow": {
     "slide_type": "subslide"
    }
   },
   "source": [
    "In the terminal now type\n",
    "\n",
    "    python first_script.py\n",
    "    \n",
    "This is how you run Python scripts."
   ]
  },
  {
   "cell_type": "markdown",
   "metadata": {
    "slideshow": {
     "slide_type": "slide"
    }
   },
   "source": [
    "# Conclusions\n",
    "\n",
    "We have just seen how to run Python through both the interactive session and through scripts.\n",
    "\n",
    "Next we will go over some basic Python concepts:\n",
    "* assigning variables\n",
    "* initializing and manipulating objects\n",
    "* operations and functions"
   ]
  }
 ],
 "metadata": {
  "anaconda-cloud": {},
  "celltoolbar": "Slideshow",
  "kernelspec": {
   "display_name": "Python [Root]",
   "language": "python",
   "name": "Python [Root]"
  },
  "language_info": {
   "codemirror_mode": {
    "name": "ipython",
    "version": 3
   },
   "file_extension": ".py",
   "mimetype": "text/x-python",
   "name": "python",
   "nbconvert_exporter": "python",
   "pygments_lexer": "ipython3",
   "version": "3.5.2"
  }
 },
 "nbformat": 4,
 "nbformat_minor": 1
}
