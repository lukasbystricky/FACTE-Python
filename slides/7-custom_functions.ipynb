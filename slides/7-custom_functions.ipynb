{
 "cells": [
  {
   "cell_type": "markdown",
   "metadata": {
    "slideshow": {
     "slide_type": "slide"
    }
   },
   "source": [
    "# Designing Functions"
   ]
  },
  {
   "cell_type": "markdown",
   "metadata": {
    "slideshow": {
     "slide_type": "slide"
    }
   },
   "source": [
    "We saw earlier how to use built-in Python functions as well as functions from existing modules, like the `math` module or the `random` module.\n",
    "\n",
    "Python lets us define our own functions and modules. "
   ]
  },
  {
   "cell_type": "markdown",
   "metadata": {
    "slideshow": {
     "slide_type": "slide"
    }
   },
   "source": [
    "The text book provides several reasons for wanting to write our own functions.\n",
    "\n",
    "In general functions tidy up code, making it easier to read and modify. They can also cut down on the overall typing needed."
   ]
  },
  {
   "cell_type": "markdown",
   "metadata": {
    "slideshow": {
     "slide_type": "slide"
    }
   },
   "source": [
    "## Creating functions\n",
    "\n",
    "The syntax to create a function is as follows:\n",
    "\n",
    "    def <function name>(<parameter list>):\n",
    "        <statements>\n",
    "\n",
    "The function name must satisfy the same requirements as a variable name: it must contain only digits, letters and underscores; it can't begin with a digit; it can't be a reserved word.\n",
    "\n",
    "The parameter list consists of a number (possibly 0) of variable names with commas in between."
   ]
  },
  {
   "cell_type": "markdown",
   "metadata": {
    "slideshow": {
     "slide_type": "subslide"
    }
   },
   "source": [
    "As an example let's look at creating a simple function that prints \"Goodbye world\" to the screen."
   ]
  },
  {
   "cell_type": "code",
   "execution_count": 3,
   "metadata": {
    "collapsed": true
   },
   "outputs": [],
   "source": [
    "def goodbye():\n",
    "    print(\"Goodbye world\")"
   ]
  },
  {
   "cell_type": "markdown",
   "metadata": {},
   "source": [
    "We can now call `goodbye()` as we would any other Python function."
   ]
  },
  {
   "cell_type": "code",
   "execution_count": 4,
   "metadata": {
    "collapsed": false
   },
   "outputs": [
    {
     "name": "stdout",
     "output_type": "stream",
     "text": [
      "Goodbye world\n"
     ]
    }
   ],
   "source": [
    "goodbye()"
   ]
  },
  {
   "cell_type": "markdown",
   "metadata": {
    "slideshow": {
     "slide_type": "subslide"
    }
   },
   "source": [
    "It's important to be aware that Python must have seen your function before you call it. For example we could not do:"
   ]
  },
  {
   "cell_type": "code",
   "execution_count": 5,
   "metadata": {
    "collapsed": false
   },
   "outputs": [
    {
     "ename": "NameError",
     "evalue": "name 'hello' is not defined",
     "output_type": "error",
     "traceback": [
      "\u001b[0;31m---------------------------------------------------------------------------\u001b[0m",
      "\u001b[0;31mNameError\u001b[0m                                 Traceback (most recent call last)",
      "\u001b[0;32m<ipython-input-5-4f6a65fcdc8b>\u001b[0m in \u001b[0;36m<module>\u001b[0;34m()\u001b[0m\n\u001b[0;32m----> 1\u001b[0;31m \u001b[0mhello\u001b[0m\u001b[1;33m(\u001b[0m\u001b[1;33m)\u001b[0m\u001b[1;33m\u001b[0m\u001b[0m\n\u001b[0m\u001b[1;32m      2\u001b[0m \u001b[1;33m\u001b[0m\u001b[0m\n\u001b[1;32m      3\u001b[0m \u001b[1;32mdef\u001b[0m \u001b[0mhello\u001b[0m\u001b[1;33m(\u001b[0m\u001b[1;33m)\u001b[0m\u001b[1;33m:\u001b[0m\u001b[1;33m\u001b[0m\u001b[0m\n\u001b[1;32m      4\u001b[0m     \u001b[0mprint\u001b[0m\u001b[1;33m(\u001b[0m\u001b[1;34m\"Hello world\"\u001b[0m\u001b[1;33m)\u001b[0m\u001b[1;33m\u001b[0m\u001b[0m\n",
      "\u001b[0;31mNameError\u001b[0m: name 'hello' is not defined"
     ]
    }
   ],
   "source": [
    "hello()\n",
    "\n",
    "def hello():\n",
    "    print(\"Hello world\")"
   ]
  },
  {
   "cell_type": "markdown",
   "metadata": {
    "slideshow": {
     "slide_type": "-"
    }
   },
   "source": [
    "For this reason the convention is to define functions at the top of your code, just below the import statements."
   ]
  },
  {
   "cell_type": "markdown",
   "metadata": {},
   "source": [
    "It's important to note that we can define functions followed by regular code, as in this example."
   ]
  },
  {
   "cell_type": "code",
   "execution_count": 6,
   "metadata": {
    "collapsed": false
   },
   "outputs": [
    {
     "name": "stdout",
     "output_type": "stream",
     "text": [
      "Hello world\n",
      "Goodbye world\n"
     ]
    }
   ],
   "source": [
    "def goodbye():\n",
    "    print(\"Goodbye world\")\n",
    "    \n",
    "print(\"Hello world\")\n",
    "goodbye()"
   ]
  },
  {
   "cell_type": "markdown",
   "metadata": {
    "slideshow": {
     "slide_type": "subslide"
    }
   },
   "source": [
    "### Parameters\n",
    "\n",
    "Consider the following code:"
   ]
  },
  {
   "cell_type": "code",
   "execution_count": 7,
   "metadata": {
    "collapsed": false
   },
   "outputs": [
    {
     "name": "stdout",
     "output_type": "stream",
     "text": [
      "Hello Adrian\n",
      "Hello Belle\n",
      "Hello Charles\n",
      "Hello David\n"
     ]
    }
   ],
   "source": [
    "def hello(name):\n",
    "    print(\"Hello\", name)\n",
    "    \n",
    "hello(\"Adrian\")\n",
    "hello(\"Belle\")\n",
    "hello(\"Charles\")\n",
    "hello(\"David\")"
   ]
  },
  {
   "cell_type": "markdown",
   "metadata": {
    "slideshow": {
     "slide_type": "subslide"
    }
   },
   "source": [
    "Hopefully it's clear what this code is doing. The parameter `name` is used in the function `hello`. Note that we do not have to define `name` anywhere inside the function. \n",
    "\n",
    "When you are using the function, you do not need to know what the parameter is called. All you need to know is how many parameters the function expects and their type."
   ]
  },
  {
   "cell_type": "markdown",
   "metadata": {
    "slideshow": {
     "slide_type": "subslide"
    }
   },
   "source": [
    "Functions can have multiple parameters. "
   ]
  },
  {
   "cell_type": "code",
   "execution_count": 8,
   "metadata": {
    "collapsed": false
   },
   "outputs": [
    {
     "name": "stdout",
     "output_type": "stream",
     "text": [
      "20 times 1 is 20\n",
      "45 times 0.3 is 13.5\n"
     ]
    }
   ],
   "source": [
    "def multiply(x,y):\n",
    "    m = x * y\n",
    "    print(x, \"times\", y, \"is\", m)\n",
    "    \n",
    "multiply(20,1)\n",
    "multiply(45,0.3)"
   ]
  },
  {
   "cell_type": "markdown",
   "metadata": {
    "slideshow": {
     "slide_type": "subslide"
    }
   },
   "source": [
    "### Parameter types\n",
    "\n",
    "In many programming languages you have to declare what type of parameters a function expects. In Python you do not have to do this. There is nothing stopping us from passing in a string to `multiply` for example. If we did this however we would get a runtime error.\n",
    "\n",
    "Commenting your functions helps tell the user what the type of each parameter should be."
   ]
  },
  {
   "cell_type": "markdown",
   "metadata": {
    "slideshow": {
     "slide_type": "subslide"
    }
   },
   "source": [
    "### Return\n",
    "\n",
    "Functions can return information back to the main code block of the function. This is done using the `return` keyword. The `return` keyword is the last statement in your function, followed by one or more values that you want to pass back to the main code block. \n",
    "\n",
    "Consider the following implementation of the Pythagoras theorem:"
   ]
  },
  {
   "cell_type": "code",
   "execution_count": 10,
   "metadata": {
    "collapsed": false
   },
   "outputs": [
    {
     "name": "stdout",
     "output_type": "stream",
     "text": [
      "5.0\n"
     ]
    }
   ],
   "source": [
    "from math import sqrt\n",
    "\n",
    "def pythagoras( a, b ):\n",
    "    return sqrt( a * a + b * b )\n",
    "\n",
    "c = pythagoras( 3, 4 )    \n",
    "print( c )"
   ]
  },
  {
   "cell_type": "markdown",
   "metadata": {
    "slideshow": {
     "slide_type": "subslide"
    }
   },
   "source": [
    "It should be noted that the square root calculation is done on the same line as the return statement. It doesn't have to be like this, however this illustrates that the return statement returns a value, not a variable back to the main block. This value is then stored in the variable `c`. "
   ]
  },
  {
   "cell_type": "markdown",
   "metadata": {
    "slideshow": {
     "slide_type": "subslide"
    }
   },
   "source": [
    "Any code in the same block and same indentation level as a `return` statement that appears after `return` is ignored. For instance:"
   ]
  },
  {
   "cell_type": "code",
   "execution_count": 11,
   "metadata": {
    "collapsed": false
   },
   "outputs": [
    {
     "name": "stdout",
     "output_type": "stream",
     "text": [
      "5.0\n"
     ]
    }
   ],
   "source": [
    "from math import sqrt\n",
    "\n",
    "def pythagoras( a, b ):\n",
    "    return sqrt( a * a + b * b )\n",
    "    print(\"This line is never executed!\")\n",
    "    \n",
    "    \n",
    "c = pythagoras( 3, 4 )    \n",
    "print( c )"
   ]
  },
  {
   "cell_type": "markdown",
   "metadata": {
    "slideshow": {
     "slide_type": "subslide"
    }
   },
   "source": [
    "### Multiple return values\n",
    "\n",
    "You are not limited to returning a single value from a function. To return multiple values, separate them with commas. If you want to use these values later in your code, you will have to assign them to values separated by commas too. "
   ]
  },
  {
   "cell_type": "code",
   "execution_count": 13,
   "metadata": {
    "collapsed": false
   },
   "outputs": [
    {
     "name": "stdout",
     "output_type": "stream",
     "text": [
      "Number of pennies:  2\n"
     ]
    }
   ],
   "source": [
    "def change(amount):\n",
    "    amount_cents = int(15.97*100) # total amount in pennies\n",
    "\n",
    "    # calculate number of dollars using integer division\n",
    "    dollars = amount_cents // 100 \n",
    "    amount_cents -= 100*dollars # update number of pennies\n",
    "\n",
    "    # calculate number of quarters using integer division\n",
    "    quarters = amount_cents // 25\n",
    "    amount_cents -= 25*quarters # update integer of pennies\n",
    "\n",
    "    # calculate number of dimes using true division\n",
    "    dimes = amount_cents // 10\n",
    "    amount_cents -= 10*dimes # update integer  of pennies\n",
    "\n",
    "    # calculate number of nickels using true division\n",
    "    nickels = amount_cents // 5\n",
    "    amount_cents -= 5*nickels # update integer of pennies\n",
    "\n",
    "    # number of pennies is just the remaining pennies\n",
    "    pennies = amount_cents\n",
    "    \n",
    "    return dollars, quarters, dimes, nickels, pennies\n",
    "\n",
    "dol, quart, dimes, nick, pen = change(15.98)\n",
    "\n",
    "print(\"Number of pennies: \", pen)"
   ]
  },
  {
   "cell_type": "markdown",
   "metadata": {
    "slideshow": {
     "slide_type": "subslide"
    }
   },
   "source": [
    "### Exercise\n",
    "\n",
    "Write a function `is_even(number)` that takes in an integer as a parameter and returns `True` if it is even and `False` otherwise."
   ]
  },
  {
   "cell_type": "markdown",
   "metadata": {
    "slideshow": {
     "slide_type": "subslide"
    }
   },
   "source": [
    "### Answer"
   ]
  },
  {
   "cell_type": "code",
   "execution_count": 14,
   "metadata": {
    "collapsed": false
   },
   "outputs": [
    {
     "name": "stdout",
     "output_type": "stream",
     "text": [
      "True\n",
      "False\n"
     ]
    }
   ],
   "source": [
    "def is_even(num):\n",
    "    return num % 2 == 0\n",
    "\n",
    "print(is_even(4))\n",
    "print(is_even(769))\n"
   ]
  },
  {
   "cell_type": "markdown",
   "metadata": {
    "slideshow": {
     "slide_type": "subslide"
    }
   },
   "source": [
    "### Exercise\n",
    "\n",
    "Write a function `is_odd(number)` that tests if a number is false by calling `is_even()` and inverting the result."
   ]
  },
  {
   "cell_type": "markdown",
   "metadata": {
    "slideshow": {
     "slide_type": "subslide"
    }
   },
   "source": [
    "### Answer"
   ]
  },
  {
   "cell_type": "code",
   "execution_count": 16,
   "metadata": {
    "collapsed": false
   },
   "outputs": [
    {
     "name": "stdout",
     "output_type": "stream",
     "text": [
      "True\n",
      "False\n"
     ]
    }
   ],
   "source": [
    "def is_odd(number):\n",
    "    return not is_even(number)\n",
    "\n",
    "print(is_odd(7))\n",
    "print(is_odd(32))"
   ]
  },
  {
   "cell_type": "markdown",
   "metadata": {
    "slideshow": {
     "slide_type": "slide"
    }
   },
   "source": [
    "## Doc strings\n",
    "\n",
    "Doc strings are a set of comments at the beginning of functions that serve as documentation for the function. They are what is displayed when the user calls the `help()` function. \n",
    "\n",
    "Doc strings appear right after the function declaration (before the body). They are enclosed in triple quotes \"\"\" ... \"\"\"."
   ]
  },
  {
   "cell_type": "code",
   "execution_count": 17,
   "metadata": {
    "collapsed": false,
    "slideshow": {
     "slide_type": "subslide"
    }
   },
   "outputs": [
    {
     "name": "stdout",
     "output_type": "stream",
     "text": [
      "Help on function is_even in module __main__:\n",
      "\n",
      "is_even(number)\n",
      "    Checks if a number is even.\n",
      "    \n",
      "    input:   (int) number\n",
      "    returns: True if number is even, false otherwise\n",
      "\n"
     ]
    }
   ],
   "source": [
    "def is_even(number):\n",
    "    \"\"\"\n",
    "    Checks if a number is even.\n",
    "    \n",
    "    input:   (int) number\n",
    "    returns: True if number is even, false otherwise\n",
    "    \"\"\"\n",
    "    \n",
    "    return mod(number, 2) == 0\n",
    "\n",
    "help(is_even)"
   ]
  },
  {
   "cell_type": "markdown",
   "metadata": {
    "slideshow": {
     "slide_type": "slide"
    }
   },
   "source": [
    "## Scope and lifetime\n",
    "\n",
    "**Scope** refers to visibility. In particular the scope of a variable determines where it can and cannot be accessed and modified. **Lifetime** refers to how long a variable exists in memory."
   ]
  },
  {
   "cell_type": "markdown",
   "metadata": {
    "slideshow": {
     "slide_type": "subslide"
    }
   },
   "source": [
    "In general the scope of a variable is at least the code block in which it is created and all other code blocks that are nested within that code block at a deeper indentation level."
   ]
  },
  {
   "cell_type": "markdown",
   "metadata": {
    "slideshow": {
     "slide_type": "subslide"
    }
   },
   "source": [
    "Consider the following code:"
   ]
  },
  {
   "cell_type": "code",
   "execution_count": 18,
   "metadata": {
    "collapsed": false
   },
   "outputs": [
    {
     "name": "stdout",
     "output_type": "stream",
     "text": [
      "Goodbye!\n",
      "Goodbye!\n",
      "1\n",
      "Hi!\n",
      "Good afternoon\n",
      "Goodbye!\n",
      "Goodbye!\n",
      "1\n",
      "Hi!\n",
      "Good afternoon\n",
      "Goodbye!\n",
      "Goodbye!\n",
      "1\n",
      "Hi!\n",
      "Good afternoon\n",
      "2\n",
      "1\n",
      "Good afternoon\n"
     ]
    }
   ],
   "source": [
    "hello = \"Hi!\"\n",
    "bye = \"Goodbye!\"\n",
    "\n",
    "for i in range( 3 ):\n",
    "    for j in range( 2 ):\n",
    "        afternoon = \"Good afternoon\"\n",
    "        print( bye )\n",
    "\n",
    "    print( j )\n",
    "    print( hello )\n",
    "    print( afternoon )\n",
    "    \n",
    "print( i )\n",
    "print( j )\n",
    "print( afternoon )"
   ]
  },
  {
   "cell_type": "markdown",
   "metadata": {
    "slideshow": {
     "slide_type": "subslide"
    }
   },
   "source": [
    "The variables `hello` and `bye` are defined at the beginning of the program so their scope in the entire code. \n",
    "\n",
    "The variables `i`, `j` and `afternoon` are defined at deeper indentation levels. In most programming languages variable defined inside a block are not accessible outside that block. In Python however this is not the case. This is why `afternoon` as well as `i` and `j` are accessible and can be printed after the nested for loop."
   ]
  },
  {
   "cell_type": "markdown",
   "metadata": {
    "slideshow": {
     "slide_type": "subslide"
    }
   },
   "source": [
    "Scope works slightly differently in functions. For example consider the following function:"
   ]
  },
  {
   "cell_type": "code",
   "execution_count": 19,
   "metadata": {
    "collapsed": false
   },
   "outputs": [
    {
     "name": "stdout",
     "output_type": "stream",
     "text": [
      "There are 1.2 dimes in a dozen\n",
      "dime = 10 and dozen = 12\n"
     ]
    }
   ],
   "source": [
    "dozen = 12\n",
    "\n",
    "def dimeAdozen ():\n",
    "    print( \"There are\", dozen/dime , \"dimes in a dozen\" )\n",
    "\n",
    "dime = 10\n",
    "dimeAdozen ()\n",
    "print( \"dime =\", dime , \"and dozen =\", dozen )"
   ]
  },
  {
   "cell_type": "markdown",
   "metadata": {
    "slideshow": {
     "slide_type": "-"
    }
   },
   "source": [
    "Note that `dime` and `dozen` are both visible inside the function `dimeAdozen()`. "
   ]
  },
  {
   "cell_type": "markdown",
   "metadata": {
    "slideshow": {
     "slide_type": "subslide"
    }
   },
   "source": [
    "What happens if we change the function slightly:"
   ]
  },
  {
   "cell_type": "code",
   "execution_count": 20,
   "metadata": {
    "collapsed": false
   },
   "outputs": [
    {
     "name": "stdout",
     "output_type": "stream",
     "text": [
      "There are 1.3 dimes in a dozen\n",
      "dime = 10 and dozen = 12\n"
     ]
    }
   ],
   "source": [
    "dozen = 12\n",
    "\n",
    "def dimeAdozen ():\n",
    "    dozen = 13\n",
    "    print( \"There are\", dozen/dime , \"dimes in a dozen\" )\n",
    "\n",
    "dime = 10\n",
    "dimeAdozen ()\n",
    "print( \"dime =\", dime , \"and dozen =\", dozen )"
   ]
  },
  {
   "cell_type": "markdown",
   "metadata": {
    "slideshow": {
     "slide_type": "-"
    }
   },
   "source": [
    "Here `dime` and `dozen` are both still visible within `dimeAdozen()`. The value of `dozen` is changed inside `dimeAdozen()`, however this change is *not* reflected when we print dozen at the end of the code."
   ]
  },
  {
   "cell_type": "markdown",
   "metadata": {
    "slideshow": {
     "slide_type": "subslide"
    }
   },
   "source": [
    "This is because the variable `dozen` used inside the function is a **local** variable, only accessible within the function body. Once the function is finished running, all local variables are destroyed."
   ]
  },
  {
   "cell_type": "markdown",
   "metadata": {
    "slideshow": {
     "slide_type": "subslide"
    }
   },
   "source": [
    "This might be more obvious in another example:"
   ]
  },
  {
   "cell_type": "code",
   "execution_count": 21,
   "metadata": {
    "collapsed": false
   },
   "outputs": [
    {
     "name": "stdout",
     "output_type": "stream",
     "text": [
      "16\n"
     ]
    },
    {
     "ename": "NameError",
     "evalue": "name 'm' is not defined",
     "output_type": "error",
     "traceback": [
      "\u001b[0;31m---------------------------------------------------------------------------\u001b[0m",
      "\u001b[0;31mNameError\u001b[0m                                 Traceback (most recent call last)",
      "\u001b[0;32m<ipython-input-21-26bc40cc0fe7>\u001b[0m in \u001b[0;36m<module>\u001b[0;34m()\u001b[0m\n\u001b[1;32m      5\u001b[0m \u001b[0ma\u001b[0m \u001b[1;33m=\u001b[0m \u001b[0mmultiply\u001b[0m\u001b[1;33m(\u001b[0m\u001b[1;36m4\u001b[0m\u001b[1;33m,\u001b[0m\u001b[1;36m4\u001b[0m\u001b[1;33m)\u001b[0m\u001b[1;33m\u001b[0m\u001b[0m\n\u001b[1;32m      6\u001b[0m \u001b[0mprint\u001b[0m\u001b[1;33m(\u001b[0m\u001b[0ma\u001b[0m\u001b[1;33m)\u001b[0m\u001b[1;33m\u001b[0m\u001b[0m\n\u001b[0;32m----> 7\u001b[0;31m \u001b[0mprint\u001b[0m\u001b[1;33m(\u001b[0m\u001b[0mm\u001b[0m\u001b[1;33m)\u001b[0m\u001b[1;33m\u001b[0m\u001b[0m\n\u001b[0m",
      "\u001b[0;31mNameError\u001b[0m: name 'm' is not defined"
     ]
    }
   ],
   "source": [
    "def multiply(x,y):\n",
    "    m = x*y\n",
    "    return m\n",
    "\n",
    "a = multiply(4,4)\n",
    "print(a)\n",
    "print(m)"
   ]
  },
  {
   "cell_type": "markdown",
   "metadata": {},
   "source": [
    "The variable `m` is defined inside a function. Outside that function it was never declared and so Python gives an error."
   ]
  },
  {
   "cell_type": "markdown",
   "metadata": {
    "slideshow": {
     "slide_type": "slide"
    }
   },
   "source": [
    "## Modules\n",
    "\n",
    "Creating a module is very simple. Inside a text file we declare as many functions as we want and save it with the extension .py. You can then import this module into another Python program using the name of your module without the .py exentension. \n",
    "\n",
    "This module can be treated exactly like any other Python module. To import the module into a program make sure it is in the same directory as your program."
   ]
  },
  {
   "cell_type": "markdown",
   "metadata": {
    "slideshow": {
     "slide_type": "subslide"
    }
   },
   "source": [
    "### Exercise\n",
    "\n",
    "Create a module `unit_conversion.py` that contains the following functions:\n",
    "\n",
    "* km_to_miles: a function that converts kilometers to miles using the conversion $m = 1.6 k$\n",
    "* miles_to_feet: a function that converts miles to feet using the conversion $f = 5280 m$\n",
    "\n",
    "Import this module and test both functions."
   ]
  },
  {
   "cell_type": "markdown",
   "metadata": {
    "slideshow": {
     "slide_type": "slide"
    }
   },
   "source": [
    "## Exercises\n",
    "\n",
    "1) (Exercise 8.3 in text) The Grerory-Leibnitz series approximates $\\pi$ as $4 (1/1 - 1/3 + 1/5 - 1/7 + 1/9...)$. Write a function that returns the approximation of $\\pi$ according to this series. The function gets one parameter, namely an integer that indicates how many of the terms\n",
    "between the parentheses must be calculated.\n",
    "\n",
    "2) Write a function that simulates rolling a number of dice. The function should take in a number $n$ and return the sum of $n$ rolls of a six sided dice."
   ]
  }
 ],
 "metadata": {
  "anaconda-cloud": {},
  "celltoolbar": "Slideshow",
  "kernelspec": {
   "display_name": "Python [default]",
   "language": "python",
   "name": "python3"
  },
  "language_info": {
   "codemirror_mode": {
    "name": "ipython",
    "version": 3
   },
   "file_extension": ".py",
   "mimetype": "text/x-python",
   "name": "python",
   "nbconvert_exporter": "python",
   "pygments_lexer": "ipython3",
   "version": "3.5.2"
  }
 },
 "nbformat": 4,
 "nbformat_minor": 1
}
