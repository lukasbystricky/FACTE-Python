{
 "cells": [
  {
   "cell_type": "markdown",
   "metadata": {
    "slideshow": {
     "slide_type": "slide"
    }
   },
   "source": [
    "# Conclusions"
   ]
  },
  {
   "cell_type": "markdown",
   "metadata": {
    "slideshow": {
     "slide_type": "slide"
    }
   },
   "source": [
    "Today you have been introduced to Python. \n",
    "\n",
    "In particular you should now be familiar with:\n",
    "* expressions\n",
    "* variables\n",
    "* using and defining functions and modules\n",
    "* conditional expressions\n",
    "* loops"
   ]
  },
  {
   "cell_type": "markdown",
   "metadata": {
    "slideshow": {
     "slide_type": "slide"
    }
   },
   "source": [
    "## Topics not covered\n",
    "\n",
    "With these skills you should be able to solve a wide range of problems. However there is much that we did not cover. I'll provide a brief description of some of the things that we missed, but I think would be worthwhile including in a high school ciriculum. "
   ]
  },
  {
   "cell_type": "markdown",
   "metadata": {
    "slideshow": {
     "slide_type": "subslide"
    }
   },
   "source": [
    "### Objects and classes\n",
    "\n",
    "Python is an object-oriented language. It lets us encapsulate our data as classes which can be manipulated as if they were objects. \n",
    "\n",
    "For example, you may have an a class that represents a student. This student might have a set of grades, an age a height. Object oriented programming lets us store this information in a convenient way."
   ]
  },
  {
   "cell_type": "markdown",
   "metadata": {
    "slideshow": {
     "slide_type": "subslide"
    }
   },
   "source": [
    "Although it is possible to do complex calculations in Python without knowing anything about objects or classes, they are well worth learning as they make certain tasks much simpler. "
   ]
  },
  {
   "cell_type": "markdown",
   "metadata": {
    "slideshow": {
     "slide_type": "subslide"
    }
   },
   "source": [
    "### Lists\n",
    "\n",
    "Lists are a collection of objects. In fact a list is an object by itself. Lists can be initialized using the square brackets. For example:"
   ]
  },
  {
   "cell_type": "code",
   "execution_count": 3,
   "metadata": {
    "collapsed": true
   },
   "outputs": [],
   "source": [
    "fruits = [\"apple\", \"banana\", \"oranges\"]"
   ]
  },
  {
   "cell_type": "markdown",
   "metadata": {
    "slideshow": {
     "slide_type": "subslide"
    }
   },
   "source": [
    "Individual elements inside a list can be accessed using **indexing**. The first item in a list is stored at index 0, the second at index 1 etc."
   ]
  },
  {
   "cell_type": "code",
   "execution_count": 4,
   "metadata": {
    "collapsed": false
   },
   "outputs": [
    {
     "name": "stdout",
     "output_type": "stream",
     "text": [
      "apple\n",
      "banana\n"
     ]
    }
   ],
   "source": [
    "fruits = [\"apple\", \"banana\", \"oranges\"]\n",
    "print(fruits[0])\n",
    "print(fruits[1])"
   ]
  },
  {
   "cell_type": "markdown",
   "metadata": {
    "slideshow": {
     "slide_type": "subslide"
    }
   },
   "source": [
    "Lists are also a good way to introduce the concepts of **methods**. For example the `append()` method inserts an object to the end of a list."
   ]
  },
  {
   "cell_type": "code",
   "execution_count": 6,
   "metadata": {
    "collapsed": false
   },
   "outputs": [
    {
     "name": "stdout",
     "output_type": "stream",
     "text": [
      "['apple', 'banana', 'oranges', 'pear']\n"
     ]
    }
   ],
   "source": [
    "fruits = [\"apple\", \"banana\", \"oranges\"]\n",
    "fruits.append(\"pear\")\n",
    "print(fruits)"
   ]
  },
  {
   "cell_type": "markdown",
   "metadata": {
    "slideshow": {
     "slide_type": "subslide"
    }
   },
   "source": [
    "### Graphics\n",
    "\n",
    "One of the very nice things about Python compared to other programming languages is the ease with which we can make graphics. Suppose we want to make a histogram of the number of rolls of a six sided dice it takes to get a six.\n",
    "\n",
    "The module `matplotlib` contains many useful tools to create professional graphs."
   ]
  },
  {
   "cell_type": "code",
   "execution_count": 8,
   "metadata": {
    "collapsed": false,
    "slideshow": {
     "slide_type": "subslide"
    }
   },
   "outputs": [],
   "source": [
    "# generate the data\n",
    "\n",
    "import random \n",
    "rolls = []\n",
    "\n",
    "for i in range(1000):\n",
    "    \n",
    "    r = 0 \n",
    "    while random.randint(1,6) != 6:\n",
    "        r += 1\n",
    "        \n",
    "    rolls.append(r)"
   ]
  },
  {
   "cell_type": "code",
   "execution_count": 13,
   "metadata": {
    "collapsed": false,
    "slideshow": {
     "slide_type": "subslide"
    }
   },
   "outputs": [
    {
     "data": {
      "text/plain": [
       "<matplotlib.text.Text at 0x2877ffa4b38>"
      ]
     },
     "execution_count": 13,
     "metadata": {},
     "output_type": "execute_result"
    },
    {
     "data": {
      "image/png": "[encoded data removed]",
      "text/plain": [
       "<matplotlib.figure.Figure at 0x287019362b0>"
      ]
     },
     "metadata": {},
     "output_type": "display_data"
    }
   ],
   "source": [
    "# plot the data\n",
    "import matplotlib.pyplot as plt\n",
    "%matplotlib inline\n",
    "\n",
    "plt.hist(rolls, range(0,30))\n",
    "plt.title(\"Number of rolls needed to roll a six\")\n",
    "plt.ylabel(\"Frequency\")\n",
    "plt.xlabel(\"Rolls\")"
   ]
  },
  {
   "cell_type": "markdown",
   "metadata": {
    "slideshow": {
     "slide_type": "subslide"
    }
   },
   "source": [
    "### Jupyter/IPython\n",
    "\n",
    "Jupyter (formerly IPython) notebooks provide an interactive way to use Python. They allow us to display and run Python code along with formatted text and equations. \n",
    "\n",
    "These slides were done in Jupyter. Most installations of Annaconda come with Jupyter. "
   ]
  },
  {
   "cell_type": "markdown",
   "metadata": {
    "slideshow": {
     "slide_type": "slide"
    }
   },
   "source": [
    "## Additional resources\n",
    "\n",
    "Python is widely used in almost all industries. As such there is no shortage of resources, both online and in print, avaliable for you or your students. "
   ]
  },
  {
   "cell_type": "markdown",
   "metadata": {
    "slideshow": {
     "slide_type": "subslide"
    }
   },
   "source": [
    "I've included a couple of free text books, however those are by no means the only free ones out there. A quick google search will find dozens more. \n",
    "\n",
    "In addition to books there are various online tutorials that go over step by step how to program in Python. For example a well known free online tutorial is [code academy](https://www.codecademy.com/learn/python)."
   ]
  },
  {
   "cell_type": "markdown",
   "metadata": {
    "slideshow": {
     "slide_type": "slide"
    }
   },
   "source": [
    "## Thank you for your attention."
   ]
  }
 ],
 "metadata": {
  "celltoolbar": "Slideshow",
  "kernelspec": {
   "display_name": "Python [default]",
   "language": "python",
   "name": "python3"
  },
  "language_info": {
   "codemirror_mode": {
    "name": "ipython",
    "version": 3
   },
   "file_extension": ".py",
   "mimetype": "text/x-python",
   "name": "python",
   "nbconvert_exporter": "python",
   "pygments_lexer": "ipython3",
   "version": "3.5.2"
  }
 },
 "nbformat": 4,
 "nbformat_minor": 1
}
