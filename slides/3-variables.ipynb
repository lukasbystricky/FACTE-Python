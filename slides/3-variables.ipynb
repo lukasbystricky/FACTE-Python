{
 "cells": [
  {
   "cell_type": "markdown",
   "metadata": {
    "slideshow": {
     "slide_type": "slide"
    }
   },
   "source": [
    "# Variables"
   ]
  },
  {
   "cell_type": "markdown",
   "metadata": {
    "slideshow": {
     "slide_type": "slide"
    }
   },
   "source": [
    "Often when programming you want to write code that solves problems in a general way. For example you could easily write a line of code to calculate the cost of 60 books costing \\$24.95 each. \n",
    "\n",
    "However, what if the price changed? Or the number of books? Your code would have to be rewritten in that case. **Variables** let us write code that solves problems in a more general way."
   ]
  },
  {
   "cell_type": "markdown",
   "metadata": {
    "slideshow": {
     "slide_type": "slide"
    }
   },
   "source": [
    "## Values\n",
    "\n",
    "A variable is a labeled place in computer memory that you can use to store a value in. The choice of label is up to up to you and is called the **variable name**. "
   ]
  },
  {
   "cell_type": "markdown",
   "metadata": {
    "slideshow": {
     "slide_type": "subslide"
    }
   },
   "source": [
    "To create a variable, you must assign the variable name to a value. The assign operator is the = symbol. \n",
    "\n",
    "To the left you put the variable name, and to the right of the = sign you put the value you want to store in the varible. For example:"
   ]
  },
  {
   "cell_type": "code",
   "execution_count": 1,
   "metadata": {
    "collapsed": false
   },
   "outputs": [
    {
     "name": "stdout",
     "output_type": "stream",
     "text": [
      "5\n"
     ]
    }
   ],
   "source": [
    "x = 5\n",
    "print(x)"
   ]
  },
  {
   "cell_type": "markdown",
   "metadata": {
    "slideshow": {
     "slide_type": "subslide"
    }
   },
   "source": [
    "In this example two things happen. First, a variable with the name `x` is created and assigned the value 5. Then the print command displays the contents of `x`. Note that it does not display the letter `x`, but the value of x. "
   ]
  },
  {
   "cell_type": "markdown",
   "metadata": {
    "slideshow": {
     "slide_type": "subslide"
    }
   },
   "source": [
    "To the right of the assign opperator you can place anything that results in a value. This does not need to be a single number. It can be for instance a calculation, a string or a call to a function that returns a value."
   ]
  },
  {
   "cell_type": "code",
   "execution_count": 2,
   "metadata": {
    "collapsed": false
   },
   "outputs": [
    {
     "name": "stdout",
     "output_type": "stream",
     "text": [
      "8\n"
     ]
    }
   ],
   "source": [
    "x = 2 + 3*2\n",
    "print(x)"
   ]
  },
  {
   "cell_type": "code",
   "execution_count": 3,
   "metadata": {
    "collapsed": false
   },
   "outputs": [
    {
     "name": "stdout",
     "output_type": "stream",
     "text": [
      "Hello world\n"
     ]
    }
   ],
   "source": [
    "y = \"Hello world\"\n",
    "print(y)"
   ]
  },
  {
   "cell_type": "markdown",
   "metadata": {
    "slideshow": {
     "slide_type": "subslide"
    }
   },
   "source": [
    "### Exercise\n",
    "\n",
    "Earlier you wrote code to determine the number of seconds in a week. Copy this calculation and assign it to a variable. Add a statement to print the contents of the the variable."
   ]
  },
  {
   "cell_type": "markdown",
   "metadata": {
    "slideshow": {
     "slide_type": "subslide"
    }
   },
   "source": [
    "The first time you assign a value to a variable in your program Python creates that variable. If later in the program you assign another value to the same variable name it overwrites the previous value. A variable always holds the value that was last assigned to it."
   ]
  },
  {
   "cell_type": "code",
   "execution_count": 6,
   "metadata": {
    "collapsed": false
   },
   "outputs": [
    {
     "name": "stdout",
     "output_type": "stream",
     "text": [
      "5\n",
      "Hello world\n",
      "3\n"
     ]
    }
   ],
   "source": [
    "x = 5\n",
    "print(x)\n",
    "\n",
    "x = \"Hello world\"\n",
    "print(x)\n",
    "\n",
    "x = int(15/4)\n",
    "print(x)"
   ]
  },
  {
   "cell_type": "markdown",
   "metadata": {
    "slideshow": {
     "slide_type": "subslide"
    }
   },
   "source": [
    "Once a variable is created (and thus has a value) you can use it in your code anywhere you would otherwise use a value. For example you could use it in calculations:"
   ]
  },
  {
   "cell_type": "code",
   "execution_count": 7,
   "metadata": {
    "collapsed": false
   },
   "outputs": [
    {
     "name": "stdout",
     "output_type": "stream",
     "text": [
      "x =  2\n",
      "y =  3\n",
      "x + y =  5\n"
     ]
    }
   ],
   "source": [
    "x = 2\n",
    "y = 3\n",
    "print(\"x = \", x)\n",
    "print(\"y = \", y)\n",
    "print(\"x + y = \", x + y)"
   ]
  },
  {
   "cell_type": "markdown",
   "metadata": {
    "slideshow": {
     "slide_type": "subslide"
    }
   },
   "source": [
    "You can copy the contents of one variable to another using the assignment operator."
   ]
  },
  {
   "cell_type": "code",
   "execution_count": 10,
   "metadata": {
    "collapsed": false
   },
   "outputs": [
    {
     "name": "stdout",
     "output_type": "stream",
     "text": [
      "x =  2\n",
      "x =  3\n"
     ]
    }
   ],
   "source": [
    "x = 2\n",
    "y = 3\n",
    "print(\"x = \",x)\n",
    "\n",
    "x = y\n",
    "print(\"x = \",x)"
   ]
  },
  {
   "cell_type": "markdown",
   "metadata": {
    "slideshow": {
     "slide_type": "subslide"
    }
   },
   "source": [
    "When you assign something to a variable, you can even use the variable itself on the righthand side of the assignment operator, provided it was created earlier. The right hand side is always evaluated completely before the actual assignment takes place."
   ]
  },
  {
   "cell_type": "code",
   "execution_count": 11,
   "metadata": {
    "collapsed": false
   },
   "outputs": [
    {
     "name": "stdout",
     "output_type": "stream",
     "text": [
      "x =  2\n",
      "x =  5\n"
     ]
    }
   ],
   "source": [
    "x = 2\n",
    "print(\"x = \", x)\n",
    "x = x + 3\n",
    "print(\"x = \", x)"
   ]
  },
  {
   "cell_type": "markdown",
   "metadata": {
    "slideshow": {
     "slide_type": "slide"
    }
   },
   "source": [
    "## Variable names\n",
    "\n",
    "So far we've given all our variable one letter names. This need not be the case. You are free to call your variable whatever you want, provided they satisfy the following requirements:\n",
    "* must consist only of letters, digits and underscores\n",
    "* must start with either a letter or an underscore\n",
    "* must not be a **reserved word**"
   ]
  },
  {
   "cell_type": "markdown",
   "metadata": {
    "slideshow": {
     "slide_type": "subslide"
    }
   },
   "source": [
    "Reserved words are words that have other meanings in Python. For example, suppose you wanted to call a variable `print`. The word `print` already has a meaning in Python, so you should not assign a variable to it.\n",
    "\n",
    "Strictly speaking you could do this, at least Python would not complain, but you should not do this. The word `print` is therefore not actually a reserved word (but you should treat it as one). There are words however that Python will not let you use as a variable name (it will give you an error). These words are:\n",
    "\n",
    "`and`, `as`, `del`, `assert`, `break`, `class`, `continue`, `def`, `del`, `elif`, `else`, `except`, `exec`, `finally`, `for`, `from`, `global`, `if` `import`, `in`, `is` `lambda`, `not`, `or`, `pass`, `raise`, `return`, `try`, `while`, `with`, `yield`."
   ]
  },
  {
   "cell_type": "markdown",
   "metadata": {
    "slideshow": {
     "slide_type": "subslide"
    }
   },
   "source": [
    "You can use capital or lowercase letters in variable names, but remember that these are case sensitive. For example `world` and `World` are not the same variable. "
   ]
  },
  {
   "cell_type": "markdown",
   "metadata": {},
   "source": [
    "### Conventions\n",
    "\n",
    "There are several conventions that you should follow when choosing variable names:\n",
    "* never chose variable names that are also the names of functions, whether built-in to Python or written by yourself. For example do not call a variable `print`, or `int` or `str`, etc.\n",
    "* choose variable names that are in some way meaningful to the code. For example if we needed a variable to store the number of seconds in a week, we could call it `secs_per_week`. An exception to this is \"throw away\" variables, i.e. variables that are used in one part of the code and then never used again."
   ]
  },
  {
   "cell_type": "markdown",
   "metadata": {
    "slideshow": {
     "slide_type": "subslide"
    }
   },
   "source": [
    "* to avoid confusion with upper and lower case letters, use lower case letters in variable names\n",
    "* if a variable name contains multiple words use an underscore between each word\n",
    "* never start a variable name with an underscore. Variables that start with an underscore indicate something special for Python."
   ]
  },
  {
   "cell_type": "markdown",
   "metadata": {
    "slideshow": {
     "slide_type": "subslide"
    }
   },
   "source": [
    "These conventions are not requirements, however you should follow them as they make code easier to read and understand. For example, what is the following code doing?"
   ]
  },
  {
   "cell_type": "code",
   "execution_count": 15,
   "metadata": {
    "collapsed": false
   },
   "outputs": [
    {
     "name": "stdout",
     "output_type": "stream",
     "text": [
      "34.557489999999994\n"
     ]
    }
   ],
   "source": [
    "a = 3.14159\n",
    "b = 2\n",
    "c = 8.25\n",
    "d = a * b * b * c / 3\n",
    "print(d)"
   ]
  },
  {
   "cell_type": "markdown",
   "metadata": {
    "slideshow": {
     "slide_type": "subslide"
    }
   },
   "source": [
    "What if I rewrote the code using different variable names?"
   ]
  },
  {
   "cell_type": "code",
   "execution_count": 14,
   "metadata": {
    "collapsed": false
   },
   "outputs": [
    {
     "name": "stdout",
     "output_type": "stream",
     "text": [
      "34.557489999999994\n"
     ]
    }
   ],
   "source": [
    "pi = 3.14159\n",
    "r = 2\n",
    "h = 8.25\n",
    "cone_volume = pi * r * r * h / 3\n",
    "print(cone_volume)"
   ]
  },
  {
   "cell_type": "markdown",
   "metadata": {
    "slideshow": {
     "slide_type": "-"
    }
   },
   "source": [
    "It is more clear now that the code is calculating the volume of a code with radius `r` and height `h`."
   ]
  },
  {
   "cell_type": "markdown",
   "metadata": {
    "slideshow": {
     "slide_type": "subslide"
    }
   },
   "source": [
    "### Constants\n",
    "\n",
    "Sometimes you will assign a value to variable and not want to change it later in the code. Such variable are called **constants**. By convention constants are given names in all capital letters."
   ]
  },
  {
   "cell_type": "markdown",
   "metadata": {
    "slideshow": {
     "slide_type": "subslide"
    }
   },
   "source": [
    "For example to calculate the volume of a code, you need to use $\\pi$. Once we assign the variable `pi` a value it should never be changed. The radius and the height however could be changed at some point to describe cones of different shapes.\n",
    "\n",
    "So our cone volume code could be rewritten as:"
   ]
  },
  {
   "cell_type": "code",
   "execution_count": 16,
   "metadata": {
    "collapsed": false
   },
   "outputs": [
    {
     "name": "stdout",
     "output_type": "stream",
     "text": [
      "34.557489999999994\n"
     ]
    }
   ],
   "source": [
    "PI = 3.14159\n",
    "r = 2\n",
    "h = 8.25\n",
    "cone_volume = PI * r * r * h / 3\n",
    "print(cone_volume)"
   ]
  },
  {
   "cell_type": "markdown",
   "metadata": {
    "slideshow": {
     "slide_type": "subslide"
    }
   },
   "source": [
    "Unfortunately Python, unlike many other programming languages does not support true constants. You can still redefine `PI` later on if you wish. By convention however if any variable written in all caps should be treated as a constant and not changed later in the code."
   ]
  },
  {
   "cell_type": "markdown",
   "metadata": {
    "slideshow": {
     "slide_type": "subslide"
    }
   },
   "source": [
    "### Exercise\n",
    "\n",
    "The volume of a sphere or radius $r$ is given by\n",
    "$$ V = \\frac{4}{3}\\pi r^3.$$\n",
    "\n",
    "Write a short Python program to compute the volume of a sphere of radisu $5$. Use proper conventions for variable names."
   ]
  },
  {
   "cell_type": "markdown",
   "metadata": {
    "slideshow": {
     "slide_type": "subslide"
    }
   },
   "source": [
    "### Answer"
   ]
  },
  {
   "cell_type": "code",
   "execution_count": 17,
   "metadata": {
    "collapsed": false
   },
   "outputs": [
    {
     "name": "stdout",
     "output_type": "stream",
     "text": [
      "523.5983333333332\n"
     ]
    }
   ],
   "source": [
    "PI = 3.14159\n",
    "r = 5\n",
    "sphere_volume = 4*PI*r**3/3\n",
    "print(sphere_volume)"
   ]
  },
  {
   "cell_type": "markdown",
   "metadata": {
    "slideshow": {
     "slide_type": "slide"
    }
   },
   "source": [
    "## Debugging variables\n",
    "\n",
    "Typically when something goes wrong in your code this is because at some point a variable is not holding the value you expected it to hold. This is called a **bug**. A simple way to **debug** your code is to print the variable names in appropriate places. "
   ]
  },
  {
   "cell_type": "markdown",
   "metadata": {
    "slideshow": {
     "slide_type": "subslide"
    }
   },
   "source": [
    "For example, try running the following code:"
   ]
  },
  {
   "cell_type": "code",
   "execution_count": 18,
   "metadata": {
    "collapsed": false
   },
   "outputs": [
    {
     "name": "stdout",
     "output_type": "stream",
     "text": [
      "5.0\n",
      "2.5\n",
      "1.6666666666666667\n"
     ]
    },
    {
     "ename": "ZeroDivisionError",
     "evalue": "division by zero",
     "output_type": "error",
     "traceback": [
      "\u001b[1;31m---------------------------------------------------------------------------\u001b[0m",
      "\u001b[1;31mZeroDivisionError\u001b[0m                         Traceback (most recent call last)",
      "\u001b[1;32m<ipython-input-18-3fb575ec5083>\u001b[0m in \u001b[0;36m<module>\u001b[1;34m()\u001b[0m\n\u001b[0;32m     11\u001b[0m \u001b[1;33m\u001b[0m\u001b[0m\n\u001b[0;32m     12\u001b[0m \u001b[0mnr1\u001b[0m \u001b[1;33m=\u001b[0m \u001b[0mnr1\u001b[0m \u001b[1;33m+\u001b[0m \u001b[1;36m1\u001b[0m\u001b[1;33m\u001b[0m\u001b[0m\n\u001b[1;32m---> 13\u001b[1;33m \u001b[0mprint\u001b[0m\u001b[1;33m(\u001b[0m\u001b[0mnr3\u001b[0m \u001b[1;33m/\u001b[0m \u001b[1;33m(\u001b[0m\u001b[0mnr1\u001b[0m \u001b[1;33m%\u001b[0m \u001b[0mnr2\u001b[0m\u001b[1;33m)\u001b[0m\u001b[1;33m)\u001b[0m\u001b[1;33m\u001b[0m\u001b[0m\n\u001b[0m",
      "\u001b[1;31mZeroDivisionError\u001b[0m: division by zero"
     ]
    }
   ],
   "source": [
    "nr1 = 5\n",
    "nr2 = 4\n",
    "nr3 = 5\n",
    "print(nr3 / (nr1 % nr2))\n",
    "\n",
    "nr1 = nr1 + 1\n",
    "print(nr3 / (nr1 % nr2))\n",
    "\n",
    "nr1 = nr1 + 1\n",
    "print(nr3 / (nr1 % nr2))\n",
    "\n",
    "nr1 = nr1 + 1\n",
    "print(nr3 / (nr1 % nr2))"
   ]
  },
  {
   "cell_type": "markdown",
   "metadata": {
    "slideshow": {
     "slide_type": "subslide"
    }
   },
   "source": [
    "We get a division by zero error. Python tells us in addition that this error occurs on line 13. What is causing this error? If we add a print statement before line 13 that prints out the values of `nr1`, `nr2` and `nr1 % nr2` this might give us a hint. Adding print statements does not affect the values of the variables, so they are always safe to add."
   ]
  },
  {
   "cell_type": "markdown",
   "metadata": {
    "slideshow": {
     "slide_type": "subslide"
    }
   },
   "source": [
    "### Exercise\n",
    "\n",
    "Add the suggested print statements to the code to determine what the problem is. Don't worry about fixing it."
   ]
  },
  {
   "cell_type": "markdown",
   "metadata": {
    "slideshow": {
     "slide_type": "slide"
    }
   },
   "source": [
    "## Soft typing\n",
    "\n",
    "All variables have a data type. In many programming languages, like Java or C++, the type of the varaiable is spefcifed when the variable is created and this type cannot change later in the code. This is called **hard typing**. Hard typing can be useful because it provides immediate feedback if the programmer tries to assign a value of the wrong type to a variable."
   ]
  },
  {
   "cell_type": "markdown",
   "metadata": {
    "slideshow": {
     "slide_type": "subslide"
    }
   },
   "source": [
    "In Python however you do not need to specify the data type of your variables. Python automatically figures this out for you. This is called **soft typing**. So far we have seen integer, floats and strings as possible data types. The function `type()` returns the type of a variable."
   ]
  },
  {
   "cell_type": "code",
   "execution_count": 19,
   "metadata": {
    "collapsed": false,
    "slideshow": {
     "slide_type": "subslide"
    }
   },
   "outputs": [
    {
     "name": "stdout",
     "output_type": "stream",
     "text": [
      "<class 'int'>\n"
     ]
    }
   ],
   "source": [
    "a = 3\n",
    "print(type(a))"
   ]
  },
  {
   "cell_type": "code",
   "execution_count": 20,
   "metadata": {
    "collapsed": false
   },
   "outputs": [
    {
     "name": "stdout",
     "output_type": "stream",
     "text": [
      "<class 'float'>\n"
     ]
    }
   ],
   "source": [
    "a = 3.0\n",
    "print(type(a))"
   ]
  },
  {
   "cell_type": "code",
   "execution_count": 21,
   "metadata": {
    "collapsed": false
   },
   "outputs": [
    {
     "name": "stdout",
     "output_type": "stream",
     "text": [
      "<class 'str'>\n"
     ]
    }
   ],
   "source": [
    "a = \"3\"\n",
    "print(type(a))"
   ]
  },
  {
   "cell_type": "markdown",
   "metadata": {
    "slideshow": {
     "slide_type": "subslide"
    }
   },
   "source": [
    "Since variables have a type the effect of operators might be different depending on the types of the variables involved. For example:"
   ]
  },
  {
   "cell_type": "code",
   "execution_count": 23,
   "metadata": {
    "collapsed": false
   },
   "outputs": [
    {
     "name": "stdout",
     "output_type": "stream",
     "text": [
      "a + b =  5\n",
      "c + d =  14\n"
     ]
    }
   ],
   "source": [
    "a = 1\n",
    "b = 4\n",
    "c = \"1\"\n",
    "d = \"4\"\n",
    "print(\"a + b = \", a + b)\n",
    "print(\"c + d = \", c + d)"
   ]
  },
  {
   "cell_type": "markdown",
   "metadata": {
    "slideshow": {
     "slide_type": "subslide"
    }
   },
   "source": [
    "An operator might give an error if the data types are not supported. For example:"
   ]
  },
  {
   "cell_type": "code",
   "execution_count": 24,
   "metadata": {
    "collapsed": false
   },
   "outputs": [
    {
     "ename": "TypeError",
     "evalue": "unsupported operand type(s) for +: 'int' and 'str'",
     "output_type": "error",
     "traceback": [
      "\u001b[1;31m---------------------------------------------------------------------------\u001b[0m",
      "\u001b[1;31mTypeError\u001b[0m                                 Traceback (most recent call last)",
      "\u001b[1;32m<ipython-input-24-12d55ada7dde>\u001b[0m in \u001b[0;36m<module>\u001b[1;34m()\u001b[0m\n\u001b[0;32m      1\u001b[0m \u001b[0ma\u001b[0m \u001b[1;33m=\u001b[0m \u001b[1;36m1\u001b[0m\u001b[1;33m\u001b[0m\u001b[0m\n\u001b[0;32m      2\u001b[0m \u001b[0mc\u001b[0m \u001b[1;33m=\u001b[0m \u001b[1;34m\"1\"\u001b[0m\u001b[1;33m\u001b[0m\u001b[0m\n\u001b[1;32m----> 3\u001b[1;33m \u001b[0mprint\u001b[0m\u001b[1;33m(\u001b[0m\u001b[1;34m\"a + c = \"\u001b[0m\u001b[1;33m,\u001b[0m \u001b[0ma\u001b[0m \u001b[1;33m+\u001b[0m \u001b[0mc\u001b[0m\u001b[1;33m)\u001b[0m\u001b[1;33m\u001b[0m\u001b[0m\n\u001b[0m",
      "\u001b[1;31mTypeError\u001b[0m: unsupported operand type(s) for +: 'int' and 'str'"
     ]
    }
   ],
   "source": [
    "a = 1\n",
    "c = \"1\"\n",
    "print(\"a + c = \", a + c)"
   ]
  },
  {
   "cell_type": "markdown",
   "metadata": {
    "slideshow": {
     "slide_type": "slide"
    }
   },
   "source": [
    "## Shorthand operators\n",
    "\n",
    "Using the operators we've seen how to change the value of variables. For example, suppose we define a variable `x` to be 3 and then later on the code we want to add `4` to x. "
   ]
  },
  {
   "cell_type": "code",
   "execution_count": 25,
   "metadata": {
    "collapsed": false
   },
   "outputs": [
    {
     "name": "stdout",
     "output_type": "stream",
     "text": [
      "x =  3\n",
      "x =  7\n"
     ]
    }
   ],
   "source": [
    "x = 3\n",
    "print(\"x = \", x)\n",
    "\n",
    "x = x + 4\n",
    "print(\"x = \", x)"
   ]
  },
  {
   "cell_type": "markdown",
   "metadata": {
    "slideshow": {
     "slide_type": "subslide"
    }
   },
   "source": [
    "It turns out that this is a common operation, and Python (like many other programming languages) provides a convenient shorthand syntax. "
   ]
  },
  {
   "cell_type": "code",
   "execution_count": 26,
   "metadata": {
    "collapsed": false
   },
   "outputs": [
    {
     "name": "stdout",
     "output_type": "stream",
     "text": [
      "x =  3\n",
      "x =  7\n"
     ]
    }
   ],
   "source": [
    "x = 3\n",
    "print(\"x = \", x)\n",
    "\n",
    "x += 4\n",
    "print(\"x = \", x)"
   ]
  },
  {
   "cell_type": "markdown",
   "metadata": {},
   "source": [
    "The operator += adds something to a variable. This saves us a little bit of typing. Likewise the operator \\*= multiplies a variable by something. The operators -=, /=, \\*\\*= and %= do similar things. "
   ]
  },
  {
   "cell_type": "markdown",
   "metadata": {
    "slideshow": {
     "slide_type": "slide"
    }
   },
   "source": [
    "## Comments\n",
    "\n",
    "Comments are text in code that Python ignores. These are used to explain the code so that someone else (or yourself) reading your code has a chance to understand what you were thinking. Comments can also be useful to make notes for yourself, for example to mention things that are still incomplete or untested."
   ]
  },
  {
   "cell_type": "markdown",
   "metadata": {
    "slideshow": {
     "slide_type": "subslide"
    }
   },
   "source": [
    "The main way to write a comment is to use a hash mark (#) which turns everything to the right of the hash mark to a comment that is ignored by Python. For example:"
   ]
  },
  {
   "cell_type": "code",
   "execution_count": 27,
   "metadata": {
    "collapsed": false
   },
   "outputs": [
    {
     "name": "stdout",
     "output_type": "stream",
     "text": [
      "Hello world\n"
     ]
    }
   ],
   "source": [
    "# This is a comment on its own line\n",
    "print(\"Hello world\") # we can also write comments after code"
   ]
  },
  {
   "cell_type": "markdown",
   "metadata": {
    "slideshow": {
     "slide_type": "subslide"
    }
   },
   "source": [
    "Comments are a necessary part of programming. Always use them! "
   ]
  },
  {
   "cell_type": "markdown",
   "metadata": {
    "slideshow": {
     "slide_type": "slide"
    }
   },
   "source": [
    "## Exercise\n",
    "\n",
    "1) (Exercise 4.3 from text) Write code that classifies a given amount of money (which you store in a variable named `amount`), specified in cents, as greater monetary units. Your code lists the monetary equivalent in dollars (100 ct), quarters (25 ct), dimes (10 ct), nickels (5 ct), and pennies (1 ct). Your program should report the maximum number of dollars that fit in the\n",
    "amount, then the maximum number of quarters that fit in the remainder after you subtract the dollars, then the maximum number of dimes that fit in the remainder after you subtract the dollars and quarters, and so on for nickels and pennies. The result is that you express the amount as the minimum number of coins needed. Make sure to comment your code."
   ]
  },
  {
   "cell_type": "markdown",
   "metadata": {},
   "source": [
    "## Answer"
   ]
  },
  {
   "cell_type": "code",
   "execution_count": 33,
   "metadata": {
    "collapsed": false,
    "slideshow": {
     "slide_type": "subslide"
    }
   },
   "outputs": [
    {
     "name": "stdout",
     "output_type": "stream",
     "text": [
      "15.0 3.0 2.0 0.0 2.0\n"
     ]
    }
   ],
   "source": [
    "amount = 15.97 # total amount\n",
    "amount_cents = 15.97*100 # total amount in pennies\n",
    "\n",
    "# calculate number of dollars using integer division\n",
    "dollars = amount_cents // 100 \n",
    "amount_cents -= 100*dollars # update number of pennies\n",
    "\n",
    "# calculate number of quarters using integer division\n",
    "quarters = amount_cents // 25\n",
    "amount_cents -= 25*quarters # update integer of pennies\n",
    "\n",
    "# calculate number of dimes using true division\n",
    "dimes = amount_cents // 10\n",
    "amount_cents -= 10*dimes # update integer  of pennies\n",
    "\n",
    "# calculate number of nickels using true division\n",
    "nickels = amount_cents // 5\n",
    "amount_cents -= 5*nickels # update integer of pennies\n",
    "\n",
    "# number of pennies is just the remaining pennies\n",
    "pennies = amount_cents\n",
    "\n",
    "print(dollars, quarters, dimes, nickels, pennies)"
   ]
  }
 ],
 "metadata": {
  "celltoolbar": "Slideshow",
  "kernelspec": {
   "display_name": "Python [Root]",
   "language": "python",
   "name": "Python [Root]"
  },
  "language_info": {
   "codemirror_mode": {
    "name": "ipython",
    "version": 3
   },
   "file_extension": ".py",
   "mimetype": "text/x-python",
   "name": "python",
   "nbconvert_exporter": "python",
   "pygments_lexer": "ipython3",
   "version": "3.5.2"
  }
 },
 "nbformat": 4,
 "nbformat_minor": 0
}
