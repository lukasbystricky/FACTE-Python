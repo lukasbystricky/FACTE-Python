{
 "cells": [
  {
   "cell_type": "markdown",
   "metadata": {
    "slideshow": {
     "slide_type": "slide"
    }
   },
   "source": [
    "# Expressions"
   ]
  },
  {
   "cell_type": "markdown",
   "metadata": {
    "slideshow": {
     "slide_type": "slide"
    }
   },
   "source": [
    "We just saw how Python can be used to do simple mathematical calculations; just like a calculator. For example if you type \n",
    "\n",
    "    5 + 7 \n",
    "in the interactive terminal and press <kbd>return</kbd> you get the result 12"
   ]
  },
  {
   "cell_type": "code",
   "execution_count": 1,
   "metadata": {
    "collapsed": false
   },
   "outputs": [
    {
     "data": {
      "text/plain": [
       "12"
      ]
     },
     "execution_count": 1,
     "metadata": {},
     "output_type": "execute_result"
    }
   ],
   "source": [
    "5 + 7"
   ]
  },
  {
   "cell_type": "markdown",
   "metadata": {
    "slideshow": {
     "slide_type": "subslide"
    }
   },
   "source": [
    "However, if you wrote the same expression in a script and ran it nothing will display. Go ahead and try that out."
   ]
  },
  {
   "cell_type": "markdown",
   "metadata": {
    "slideshow": {
     "slide_type": "subslide"
    }
   },
   "source": [
    "Inside scripts, if you want something to be displayed to the console you have to explicitly tell Python to do this.\n",
    "\n",
    "The `print` function does exactly that. We can call the print function as follows: type the word `print` followed by an opening parenthesis, followed by whatever it is you want to display, followed by a closing parenthesis. For example:"
   ]
  },
  {
   "cell_type": "code",
   "execution_count": 2,
   "metadata": {
    "collapsed": false
   },
   "outputs": [
    {
     "name": "stdout",
     "output_type": "stream",
     "text": [
      "12\n"
     ]
    }
   ],
   "source": [
    "print(5 + 7)"
   ]
  },
  {
   "cell_type": "code",
   "execution_count": 3,
   "metadata": {
    "collapsed": false
   },
   "outputs": [
    {
     "name": "stdout",
     "output_type": "stream",
     "text": [
      "Hello world!\n"
     ]
    }
   ],
   "source": [
    "print(\"Hello world!\")"
   ]
  },
  {
   "cell_type": "markdown",
   "metadata": {},
   "source": [
    "If you type either of these expressions into a Python script, you should see the expected output on the terminal. Try this out."
   ]
  },
  {
   "cell_type": "markdown",
   "metadata": {
    "slideshow": {
     "slide_type": "subslide"
    }
   },
   "source": [
    "The print function allows us to display multiple things by putting everything you want to display between the parenthesis with commas in between. The print function then displays all the items with spaces in between each item. For example:"
   ]
  },
  {
   "cell_type": "code",
   "execution_count": 5,
   "metadata": {
    "collapsed": false
   },
   "outputs": [
    {
     "name": "stdout",
     "output_type": "stream",
     "text": [
      "12 is a number\n"
     ]
    }
   ],
   "source": [
    "print(5 + 7, \"is a number\")"
   ]
  },
  {
   "cell_type": "markdown",
   "metadata": {
    "slideshow": {
     "slide_type": "subslide"
    }
   },
   "source": [
    "A small note on syntax is in order. Whitespace in Python (with the exception of leading whitespaces -- more on that later) doesn't matter. By whitespace I mean spaces. For example the following pieces of code are equivalent:"
   ]
  },
  {
   "cell_type": "code",
   "execution_count": 6,
   "metadata": {
    "collapsed": false
   },
   "outputs": [
    {
     "name": "stdout",
     "output_type": "stream",
     "text": [
      "12 is a number\n"
     ]
    }
   ],
   "source": [
    "print(5+7,\"is a number\")"
   ]
  },
  {
   "cell_type": "code",
   "execution_count": 7,
   "metadata": {
    "collapsed": false
   },
   "outputs": [
    {
     "name": "stdout",
     "output_type": "stream",
     "text": [
      "12 is a number\n"
     ]
    }
   ],
   "source": [
    "print(5 + 7, \"is a number\")"
   ]
  },
  {
   "cell_type": "markdown",
   "metadata": {},
   "source": [
    "Often for readability the second option is prefered. In the end this is a stylistic choice and it is up to you how much whitespace you choose to put in your code."
   ]
  },
  {
   "cell_type": "markdown",
   "metadata": {
    "slideshow": {
     "slide_type": "slide"
    }
   },
   "source": [
    "# Data Types\n",
    "\n",
    "On computers any data is stored as a sequence of 1s and 0s. In order to deal with these in a manageable way, we create abstractions that let us interact with data without getting bogged down in exactly how the computer sees it. Depending on what the underlying data is, Python may think of it as a specific type of data. \n",
    "\n",
    "In particular, the three most important data types (and there are many others) for you at this time are: \n",
    "* strings,\n",
    "* integers, and \n",
    "* floats\n"
   ]
  },
  {
   "cell_type": "markdown",
   "metadata": {
    "slideshow": {
     "slide_type": "subslide"
    }
   },
   "source": [
    "## Strings\n",
    "\n",
    "A string is a text. In Python a string is eclosed by either single or double quotes. In priciple it doens't matter which of these you use. `\"Orange\"` is equivalent to `'Orange'` for example. \n",
    "\n"
   ]
  },
  {
   "cell_type": "markdown",
   "metadata": {
    "slideshow": {
     "slide_type": "subslide"
    }
   },
   "source": [
    "What if your string contains a single of double quote? \n",
    "\n",
    "Python allows us to preface the quote with the special backslash character to indicate that the quote should be part of the string. For example:"
   ]
  },
  {
   "cell_type": "code",
   "execution_count": 9,
   "metadata": {
    "collapsed": false
   },
   "outputs": [
    {
     "name": "stdout",
     "output_type": "stream",
     "text": [
      "I can't stand it!\n"
     ]
    }
   ],
   "source": [
    "print(\"I can\\'t stand it!\")"
   ]
  },
  {
   "cell_type": "markdown",
   "metadata": {
    "slideshow": {
     "slide_type": "subslide"
    }
   },
   "source": [
    "## Integers\n",
    "\n",
    "Integers are whole numbers (positive or negative). There are different ways of initializing integers with the same value:"
   ]
  },
  {
   "cell_type": "code",
   "execution_count": 10,
   "metadata": {
    "collapsed": false
   },
   "outputs": [
    {
     "name": "stdout",
     "output_type": "stream",
     "text": [
      "1\n"
     ]
    }
   ],
   "source": [
    "print(1)"
   ]
  },
  {
   "cell_type": "code",
   "execution_count": 11,
   "metadata": {
    "collapsed": false
   },
   "outputs": [
    {
     "name": "stdout",
     "output_type": "stream",
     "text": [
      "1\n"
     ]
    }
   ],
   "source": [
    "print(+1)"
   ]
  },
  {
   "cell_type": "markdown",
   "metadata": {},
   "source": [
    "So the integers 1 and +1 are equivalent. Of course, the strings \"1\" and \"+1\" are not equivalent."
   ]
  },
  {
   "cell_type": "markdown",
   "metadata": {},
   "source": [
    "Integers in Python cannot be written with commas to make them more readable. For example to write a billion in Python you must type `1000000000` instead of `1,000,000,000`. "
   ]
  },
  {
   "cell_type": "markdown",
   "metadata": {
    "slideshow": {
     "slide_type": "subslide"
    }
   },
   "source": [
    "## Floats\n",
    "\n",
    "Floats (floating point numbers) are decimal numbers. For example the decimal 3.1459 is a float. Somewhat confusingly integers followed by .0 are considered floats in Python. For example 13.0 is a float, even though it contains the integer value 13.  "
   ]
  },
  {
   "cell_type": "markdown",
   "metadata": {
    "slideshow": {
     "slide_type": "subslide"
    }
   },
   "source": [
    "It is important to note that floats can only have a finite number of digits (16). This is enough for most applications, however it can lead to some unexpected results:"
   ]
  },
  {
   "cell_type": "code",
   "execution_count": 14,
   "metadata": {
    "collapsed": false
   },
   "outputs": [
    {
     "name": "stdout",
     "output_type": "stream",
     "text": [
      "0.30000000000000004\n"
     ]
    }
   ],
   "source": [
    "print(0.1 + 0.2)"
   ]
  },
  {
   "cell_type": "markdown",
   "metadata": {
    "slideshow": {
     "slide_type": "-"
    }
   },
   "source": [
    "This is called a **floating point error**. For now, it's just enough to know that this exists and may be something that you'll have to deal with if you're doing calculations that require high accuracy."
   ]
  },
  {
   "cell_type": "markdown",
   "metadata": {
    "slideshow": {
     "slide_type": "slide"
    }
   },
   "source": [
    "# Expressions and Statements\n",
    "\n",
    "An expression is a combination of one or more values using operators that produce a new value. We've already seen expressions such as:"
   ]
  },
  {
   "cell_type": "code",
   "execution_count": 15,
   "metadata": {
    "collapsed": false
   },
   "outputs": [
    {
     "data": {
      "text/plain": [
       "12"
      ]
     },
     "execution_count": 15,
     "metadata": {},
     "output_type": "execute_result"
    }
   ],
   "source": [
    "5 + 7"
   ]
  },
  {
   "cell_type": "markdown",
   "metadata": {
    "slideshow": {
     "slide_type": "subslide"
    }
   },
   "source": [
    "There are other so called *basic calculations*:\n",
    "* `+`   addition\n",
    "* `-`   subtraction\n",
    "* `*`   multiplication\n",
    "* `/`   division\n",
    "* `//`  integer division\n",
    "* `**`  power\n",
    "* `%`   modulo"
   ]
  },
  {
   "cell_type": "code",
   "execution_count": 16,
   "metadata": {
    "collapsed": false,
    "slideshow": {
     "slide_type": "subslide"
    }
   },
   "outputs": [
    {
     "name": "stdout",
     "output_type": "stream",
     "text": [
      "19\n",
      "11\n",
      "60\n",
      "3.75\n",
      "3\n",
      "50625\n",
      "3\n"
     ]
    }
   ],
   "source": [
    "print(15 + 4)\n",
    "print(15 - 4)\n",
    "print(15 * 4)\n",
    "print(15 / 4)\n",
    "print(15 // 4)\n",
    "print(15**4)\n",
    "print(15 % 4)"
   ]
  },
  {
   "cell_type": "markdown",
   "metadata": {
    "slideshow": {
     "slide_type": "subslide"
    }
   },
   "source": [
    "You're probably familiar with all those operations except perhaps integer division and modulo. \n",
    "\n",
    "Remember back to long division....\n",
    "\n",
    "An integer divided by an integer would give back an integer divisor along with a remainder (possibly 0). For exampe 15/4 would give 3 remainder 3. Integer division returns the divisor, while modulo returns the remainder. "
   ]
  },
  {
   "cell_type": "markdown",
   "metadata": {
    "slideshow": {
     "slide_type": "subslide"
    }
   },
   "source": [
    "A small comment on Python 2 vs. Python 3 here. Everything I said applies to both Python 2 and Python 3 *except for the division symbol `/`*. In Python 3 the forward slash is always true division. In Python 2 however if  you try to divide two integers with the forward slash, this actually performs integer division. \n",
    "\n",
    "This can cause some issues if you are trying to read or use someone else's code written in a different version of Python."
   ]
  },
  {
   "cell_type": "markdown",
   "metadata": {
    "slideshow": {
     "slide_type": "subslide"
    }
   },
   "source": [
    "The code\n",
    "\n",
    "    print(15 + 4)\n",
    "    print(15 - 4)\n",
    "    print(15 * 4)\n",
    "    print(15 / 4)\n",
    "    print(15 // 4)\n",
    "    print(15**4)\n",
    "    print(15 % 4)\n",
    "    \n",
    "consists of multiple lines. Each line is called a **statement**. A statement consists of a single command that Python executes."
   ]
  },
  {
   "cell_type": "code",
   "execution_count": null,
   "metadata": {
    "collapsed": true,
    "slideshow": {
     "slide_type": "subslide"
    }
   },
   "outputs": [],
   "source": []
  }
 ],
 "metadata": {
  "anaconda-cloud": {},
  "celltoolbar": "Slideshow",
  "kernelspec": {
   "display_name": "Python [Root]",
   "language": "python",
   "name": "Python [Root]"
  },
  "language_info": {
   "codemirror_mode": {
    "name": "ipython",
    "version": 3
   },
   "file_extension": ".py",
   "mimetype": "text/x-python",
   "name": "python",
   "nbconvert_exporter": "python",
   "pygments_lexer": "ipython3",
   "version": "3.5.2"
  }
 },
 "nbformat": 4,
 "nbformat_minor": 0
}
