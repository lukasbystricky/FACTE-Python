{
 "cells": [
  {
   "cell_type": "markdown",
   "metadata": {
    "slideshow": {
     "slide_type": "slide"
    }
   },
   "source": [
    "# Expressions"
   ]
  },
  {
   "cell_type": "markdown",
   "metadata": {
    "slideshow": {
     "slide_type": "slide"
    }
   },
   "source": [
    "We just saw how Python can be used to do simple mathematical calculations; just like a calculator. For example if you type \n",
    "\n",
    "    5 + 7 \n",
    "in the interactive terminal and press <kbd>return</kbd> you get the result 12"
   ]
  },
  {
   "cell_type": "code",
   "execution_count": 1,
   "metadata": {
    "collapsed": false
   },
   "outputs": [
    {
     "data": {
      "text/plain": [
       "12"
      ]
     },
     "execution_count": 1,
     "metadata": {},
     "output_type": "execute_result"
    }
   ],
   "source": [
    "5 + 7"
   ]
  },
  {
   "cell_type": "markdown",
   "metadata": {
    "slideshow": {
     "slide_type": "subslide"
    }
   },
   "source": [
    "However, if you wrote the same expression in a script and ran it nothing will display. Go ahead and try that out."
   ]
  },
  {
   "cell_type": "markdown",
   "metadata": {
    "slideshow": {
     "slide_type": "subslide"
    }
   },
   "source": [
    "Inside scripts, if you want something to be displayed to the console you have to explicitly tell Python to do this.\n",
    "\n",
    "The `print` function does exactly that. We can call the print function as follows: type the word `print` followed by an opening parenthesis, followed by whatever it is you want to display, followed by a closing parenthesis. For example:"
   ]
  },
  {
   "cell_type": "code",
   "execution_count": 2,
   "metadata": {
    "collapsed": false
   },
   "outputs": [
    {
     "name": "stdout",
     "output_type": "stream",
     "text": [
      "12\n"
     ]
    }
   ],
   "source": [
    "print(5 + 7)"
   ]
  },
  {
   "cell_type": "code",
   "execution_count": 3,
   "metadata": {
    "collapsed": false
   },
   "outputs": [
    {
     "name": "stdout",
     "output_type": "stream",
     "text": [
      "Hello world!\n"
     ]
    }
   ],
   "source": [
    "print(\"Hello world!\")"
   ]
  },
  {
   "cell_type": "markdown",
   "metadata": {},
   "source": [
    "If you type either of these expressions into a Python script, you should see the expected output on the terminal. Try this out."
   ]
  },
  {
   "cell_type": "markdown",
   "metadata": {
    "slideshow": {
     "slide_type": "subslide"
    }
   },
   "source": [
    "The print function allows us to display multiple things by putting everything you want to display between the parenthesis with commas in between. The print function then displays all the items with spaces in between each item. For example:"
   ]
  },
  {
   "cell_type": "code",
   "execution_count": 5,
   "metadata": {
    "collapsed": false
   },
   "outputs": [
    {
     "name": "stdout",
     "output_type": "stream",
     "text": [
      "12 is a number\n"
     ]
    }
   ],
   "source": [
    "print(5 + 7, \"is a number\")"
   ]
  },
  {
   "cell_type": "markdown",
   "metadata": {
    "slideshow": {
     "slide_type": "subslide"
    }
   },
   "source": [
    "A small note on syntax is in order. Whitespace in Python (with the exception of leading whitespaces -- more on that later) doesn't matter. By whitespace I mean spaces. For example the following pieces of code are equivalent:"
   ]
  },
  {
   "cell_type": "code",
   "execution_count": 6,
   "metadata": {
    "collapsed": false
   },
   "outputs": [
    {
     "name": "stdout",
     "output_type": "stream",
     "text": [
      "12 is a number\n"
     ]
    }
   ],
   "source": [
    "print(5+7,\"is a number\")"
   ]
  },
  {
   "cell_type": "code",
   "execution_count": 7,
   "metadata": {
    "collapsed": false
   },
   "outputs": [
    {
     "name": "stdout",
     "output_type": "stream",
     "text": [
      "12 is a number\n"
     ]
    }
   ],
   "source": [
    "print(5 + 7, \"is a number\")"
   ]
  },
  {
   "cell_type": "markdown",
   "metadata": {},
   "source": [
    "Often for readability the second option is prefered. In the end this is a stylistic choice and it is up to you how much whitespace you choose to put in your code."
   ]
  },
  {
   "cell_type": "markdown",
   "metadata": {
    "slideshow": {
     "slide_type": "slide"
    }
   },
   "source": [
    "# Data Types\n",
    "\n",
    "![binary](https://github.com/lukasbystricky/ISC-3313/blob/master/lectures/chapter1/images/binary.jpg?raw=true)\n",
    "\n",
    "On computers any data is stored as a sequence of 1s and 0s. In order to deal with these in a manageable way, we create abstractions that let us interact with data without getting bogged down in exactly how the computer sees it. Depending on what the underlying data is, Python may think of it as a specific type of data. "
   ]
  },
  {
   "cell_type": "markdown",
   "metadata": {
    "slideshow": {
     "slide_type": "subslide"
    }
   },
   "source": [
    "\n",
    "In particular, the three most important data types (and there are many others) for you at this time are: \n",
    "* strings,\n",
    "* integers, and \n",
    "* floats"
   ]
  },
  {
   "cell_type": "markdown",
   "metadata": {
    "slideshow": {
     "slide_type": "subslide"
    }
   },
   "source": [
    "## Strings\n",
    "\n",
    "A string is a text. In Python a string is eclosed by either single or double quotes. In priciple it doens't matter which of these you use. `\"Orange\"` is equivalent to `'Orange'` for example. \n",
    "\n"
   ]
  },
  {
   "cell_type": "markdown",
   "metadata": {
    "slideshow": {
     "slide_type": "subslide"
    }
   },
   "source": [
    "What if your string contains a single of double quote? \n",
    "\n",
    "Python allows us to preface the quote with the special backslash character to indicate that the quote should be part of the string. For example:"
   ]
  },
  {
   "cell_type": "code",
   "execution_count": 9,
   "metadata": {
    "collapsed": false
   },
   "outputs": [
    {
     "name": "stdout",
     "output_type": "stream",
     "text": [
      "I can't stand it!\n"
     ]
    }
   ],
   "source": [
    "print(\"I can\\'t stand it!\")"
   ]
  },
  {
   "cell_type": "markdown",
   "metadata": {
    "slideshow": {
     "slide_type": "subslide"
    }
   },
   "source": [
    "## Integers\n",
    "\n",
    "Integers are whole numbers (positive or negative). There are different ways of initializing integers with the same value:"
   ]
  },
  {
   "cell_type": "code",
   "execution_count": 10,
   "metadata": {
    "collapsed": false
   },
   "outputs": [
    {
     "name": "stdout",
     "output_type": "stream",
     "text": [
      "1\n"
     ]
    }
   ],
   "source": [
    "print(1)"
   ]
  },
  {
   "cell_type": "code",
   "execution_count": 11,
   "metadata": {
    "collapsed": false
   },
   "outputs": [
    {
     "name": "stdout",
     "output_type": "stream",
     "text": [
      "1\n"
     ]
    }
   ],
   "source": [
    "print(+1)"
   ]
  },
  {
   "cell_type": "markdown",
   "metadata": {},
   "source": [
    "So the integers 1 and +1 are equivalent. Of course, the strings \"1\" and \"+1\" are not equivalent."
   ]
  },
  {
   "cell_type": "markdown",
   "metadata": {},
   "source": [
    "Integers in Python cannot be written with commas to make them more readable. For example to write a billion in Python you must type `1000000000` instead of `1,000,000,000`. "
   ]
  },
  {
   "cell_type": "markdown",
   "metadata": {
    "slideshow": {
     "slide_type": "subslide"
    }
   },
   "source": [
    "## Floats\n",
    "\n",
    "Floats (floating point numbers) are decimal numbers. For example the decimal 3.1459 is a float. Somewhat confusingly integers followed by .0 are considered floats in Python. For example 13.0 is a float, even though it contains the integer value 13.  "
   ]
  },
  {
   "cell_type": "markdown",
   "metadata": {
    "slideshow": {
     "slide_type": "subslide"
    }
   },
   "source": [
    "It is important to note that floats can only have a finite number of digits (16). This is enough for most applications, however it can lead to some unexpected results:"
   ]
  },
  {
   "cell_type": "code",
   "execution_count": 14,
   "metadata": {
    "collapsed": false
   },
   "outputs": [
    {
     "name": "stdout",
     "output_type": "stream",
     "text": [
      "0.30000000000000004\n"
     ]
    }
   ],
   "source": [
    "print(0.1 + 0.2)"
   ]
  },
  {
   "cell_type": "markdown",
   "metadata": {
    "slideshow": {
     "slide_type": "-"
    }
   },
   "source": [
    "This is called a **floating point error**. For now, it's just enough to know that this exists and may be something that you'll have to deal with if you're doing calculations that require high accuracy."
   ]
  },
  {
   "cell_type": "markdown",
   "metadata": {
    "slideshow": {
     "slide_type": "slide"
    }
   },
   "source": [
    "# Expressions and Statements\n",
    "\n",
    "An expression is a combination of one or more values using operators that produce a new value. We've already seen expressions such as:"
   ]
  },
  {
   "cell_type": "code",
   "execution_count": 15,
   "metadata": {
    "collapsed": false
   },
   "outputs": [
    {
     "data": {
      "text/plain": [
       "12"
      ]
     },
     "execution_count": 15,
     "metadata": {},
     "output_type": "execute_result"
    }
   ],
   "source": [
    "5 + 7"
   ]
  },
  {
   "cell_type": "markdown",
   "metadata": {
    "slideshow": {
     "slide_type": "subslide"
    }
   },
   "source": [
    "There are other so called *basic calculations*:\n",
    "* `+`   addition\n",
    "* `-`   subtraction\n",
    "* `*`   multiplication\n",
    "* `/`   division\n",
    "* `//`  integer division\n",
    "* `**`  power\n",
    "* `%`   modulo"
   ]
  },
  {
   "cell_type": "code",
   "execution_count": 16,
   "metadata": {
    "collapsed": false,
    "slideshow": {
     "slide_type": "subslide"
    }
   },
   "outputs": [
    {
     "name": "stdout",
     "output_type": "stream",
     "text": [
      "19\n",
      "11\n",
      "60\n",
      "3.75\n",
      "3\n",
      "50625\n",
      "3\n"
     ]
    }
   ],
   "source": [
    "print(15 + 4)\n",
    "print(15 - 4)\n",
    "print(15 * 4)\n",
    "print(15 / 4)\n",
    "print(15 // 4)\n",
    "print(15**4)\n",
    "print(15 % 4)"
   ]
  },
  {
   "cell_type": "markdown",
   "metadata": {
    "slideshow": {
     "slide_type": "subslide"
    }
   },
   "source": [
    "You're probably familiar with all those operations except perhaps integer division and modulo. \n",
    "\n",
    "Remember back to long division....\n",
    "\n",
    "An integer divided by an integer would give back an integer divisor along with a remainder (possibly 0). For exampe 15/4 would give 3 remainder 3. Integer division returns the divisor, while modulo returns the remainder. "
   ]
  },
  {
   "cell_type": "markdown",
   "metadata": {
    "slideshow": {
     "slide_type": "subslide"
    }
   },
   "source": [
    "A small comment on Python 2 vs. Python 3 here. Everything I said applies to both Python 2 and Python 3 *except for the division symbol `/`*. In Python 3 the forward slash is always true division. In Python 2 however if  you try to divide two integers with the forward slash, this actually performs integer division. \n",
    "\n",
    "This can cause some issues if you are trying to read or use someone else's code written in a different version of Python."
   ]
  },
  {
   "cell_type": "markdown",
   "metadata": {
    "slideshow": {
     "slide_type": "subslide"
    }
   },
   "source": [
    "The code\n",
    "\n",
    "    print(15 + 4)\n",
    "    print(15 - 4)\n",
    "    print(15 * 4)\n",
    "    print(15 / 4)\n",
    "    print(15 // 4)\n",
    "    print(15**4)\n",
    "    print(15 % 4)\n",
    "    \n",
    "consists of multiple lines. Each line is called a **statement**. A statement consists of a single command that Python executes."
   ]
  },
  {
   "cell_type": "markdown",
   "metadata": {
    "slideshow": {
     "slide_type": "subslide"
    }
   },
   "source": [
    "## More complicated calculations\n",
    "\n",
    "Python lets us also do more longer calculations, just like a scientific or programmable calculator. To do this it uses the standard order of operations BEDMAS (or PEDMAS as your textbook calls it):\n",
    "* **B**rackets (or **P**arentheses)\n",
    "* **E**xponents\n",
    "* **M**ultiplication and\n",
    "* **D**ivision\n",
    "* **A**ddition and\n",
    "* **S**ubtraction"
   ]
  },
  {
   "cell_type": "markdown",
   "metadata": {
    "slideshow": {
     "slide_type": "subslide"
    }
   },
   "source": [
    "For example, suppose we want to evaluate the expression\n",
    "$$ 5\\times 2 - 3 + \\frac{4}{2}.$$\n",
    "\n",
    "Python lets us do this easily:"
   ]
  },
  {
   "cell_type": "code",
   "execution_count": 17,
   "metadata": {
    "collapsed": false
   },
   "outputs": [
    {
     "name": "stdout",
     "output_type": "stream",
     "text": [
      "9.0\n"
     ]
    }
   ],
   "source": [
    "print(5*2 - 3 + 4/2)"
   ]
  },
  {
   "cell_type": "markdown",
   "metadata": {},
   "source": [
    "We don't even have to think about the order of operations."
   ]
  },
  {
   "cell_type": "markdown",
   "metadata": {
    "slideshow": {
     "slide_type": "subslide"
    }
   },
   "source": [
    "Note however, that since whitespaces don't matter, the expression on the last slide is exactly equivalent to: "
   ]
  },
  {
   "cell_type": "code",
   "execution_count": 18,
   "metadata": {
    "collapsed": false
   },
   "outputs": [
    {
     "name": "stdout",
     "output_type": "stream",
     "text": [
      "9.0\n"
     ]
    }
   ],
   "source": [
    "print(5 * 2 - 3 + 4 / 2)"
   ]
  },
  {
   "cell_type": "markdown",
   "metadata": {},
   "source": [
    "Or:"
   ]
  },
  {
   "cell_type": "code",
   "execution_count": 20,
   "metadata": {
    "collapsed": false
   },
   "outputs": [
    {
     "name": "stdout",
     "output_type": "stream",
     "text": [
      "9.0\n"
     ]
    }
   ],
   "source": [
    "print(5*2  -  3+4   /  2)"
   ]
  },
  {
   "cell_type": "markdown",
   "metadata": {
    "slideshow": {
     "slide_type": "subslide"
    }
   },
   "source": [
    "It does not matter how you space your operations, the order of operations is always enforced. If you want to compute (3 + 4) first, before dividing it by 2, you can put in between parentheses."
   ]
  },
  {
   "cell_type": "code",
   "execution_count": 21,
   "metadata": {
    "collapsed": false
   },
   "outputs": [
    {
     "name": "stdout",
     "output_type": "stream",
     "text": [
      "6.5\n"
     ]
    }
   ],
   "source": [
    "print( 5*2 - (3 + 4)/2)"
   ]
  },
  {
   "cell_type": "markdown",
   "metadata": {
    "slideshow": {
     "slide_type": "subslide"
    }
   },
   "source": [
    "### Exercise\n",
    "\n",
    "Write a short one line program that computes the number of seconds in a week."
   ]
  },
  {
   "cell_type": "markdown",
   "metadata": {
    "slideshow": {
     "slide_type": "subslide"
    }
   },
   "source": [
    "### Answer\n",
    "\n",
    "Since there are 7 days in a week, 24 hours in a day, 60 minutes in an hour and 60 seconds in a minute, the total number of seconds in a week is: $7\\times 24\\times 60 \\times 60$."
   ]
  },
  {
   "cell_type": "code",
   "execution_count": 22,
   "metadata": {
    "collapsed": false
   },
   "outputs": [
    {
     "name": "stdout",
     "output_type": "stream",
     "text": [
      "604800\n"
     ]
    }
   ],
   "source": [
    "print(7*24*60*60)"
   ]
  },
  {
   "cell_type": "markdown",
   "metadata": {
    "slideshow": {
     "slide_type": "subslide"
    }
   },
   "source": [
    "## String expressions\n",
    "\n",
    "Some of the operators we've seen can be applied to strings.\n",
    "\n",
    "In particular you can use the + operator to concatenate two strings and the * operator with a number to create a string that contains repetitions of the original string."
   ]
  },
  {
   "cell_type": "code",
   "execution_count": 23,
   "metadata": {
    "collapsed": false
   },
   "outputs": [
    {
     "name": "stdout",
     "output_type": "stream",
     "text": [
      "helloworld\n"
     ]
    }
   ],
   "source": [
    "print(\"hello\"+\"world\")"
   ]
  },
  {
   "cell_type": "code",
   "execution_count": 24,
   "metadata": {
    "collapsed": false
   },
   "outputs": [
    {
     "name": "stdout",
     "output_type": "stream",
     "text": [
      "hellohellohello\n"
     ]
    }
   ],
   "source": [
    "print(3*\"hello\")"
   ]
  },
  {
   "cell_type": "markdown",
   "metadata": {
    "slideshow": {
     "slide_type": "subslide"
    }
   },
   "source": [
    "Note that you cannot add a number to a string, or multiply two strings. Such operations are undefined and well give an error message."
   ]
  },
  {
   "cell_type": "markdown",
   "metadata": {
    "slideshow": {
     "slide_type": "subslide"
    }
   },
   "source": [
    "## Type casting\n",
    "\n",
    "Sometimes you need to change the data type of a value. This is done using **casting functions**. These functions take a parameter value between the parentheses and give back a value that is (almost) the same as the parameter value but of a different data type. The three main casting functions are:\n",
    "* int() - returns the value between the parentheses as an integer (rounding down if needed)\n",
    "* float() - returns the value between the parentheses as a float (adding .0 if needed)\n",
    "* str() - returns the value between the parentheses as a string\n",
    "\n"
   ]
  },
  {
   "cell_type": "markdown",
   "metadata": {
    "slideshow": {
     "slide_type": "subslide"
    }
   },
   "source": [
    "For example:"
   ]
  },
  {
   "cell_type": "code",
   "execution_count": 25,
   "metadata": {
    "collapsed": false
   },
   "outputs": [
    {
     "name": "stdout",
     "output_type": "stream",
     "text": [
      "3.75\n"
     ]
    }
   ],
   "source": [
    "print(15/4)"
   ]
  },
  {
   "cell_type": "code",
   "execution_count": 26,
   "metadata": {
    "collapsed": false
   },
   "outputs": [
    {
     "name": "stdout",
     "output_type": "stream",
     "text": [
      "3\n"
     ]
    }
   ],
   "source": [
    "print(int(15/4))"
   ]
  },
  {
   "cell_type": "code",
   "execution_count": 27,
   "metadata": {
    "collapsed": false
   },
   "outputs": [
    {
     "name": "stdout",
     "output_type": "stream",
     "text": [
      "19\n"
     ]
    }
   ],
   "source": [
    "print(15 + 4)"
   ]
  },
  {
   "cell_type": "code",
   "execution_count": 29,
   "metadata": {
    "collapsed": false
   },
   "outputs": [
    {
     "name": "stdout",
     "output_type": "stream",
     "text": [
      "19.0\n"
     ]
    }
   ],
   "source": [
    "print(float(15 + 4))"
   ]
  },
  {
   "cell_type": "markdown",
   "metadata": {
    "slideshow": {
     "slide_type": "subslide"
    }
   },
   "source": [
    "Remember that you can't use the addition operator to concatenate a number to a string. However if you cast the number to a string first then you can."
   ]
  },
  {
   "cell_type": "code",
   "execution_count": 30,
   "metadata": {
    "collapsed": false
   },
   "outputs": [
    {
     "name": "stdout",
     "output_type": "stream",
     "text": [
      "I own 15 apples.\n"
     ]
    }
   ],
   "source": [
    "print(\"I own \" + str(15) + \" apples.\")"
   ]
  },
  {
   "cell_type": "markdown",
   "metadata": {
    "slideshow": {
     "slide_type": "slide"
    }
   },
   "source": [
    "## Exercises\n",
    "\n",
    "1) (Exercise 3.1 from the text) The cover price of a book is \\$24.95, but bookstores get a 40 percent discount. Shipping costs $3 for the first copy and 75 cents for each additional copy. Calculate the total wholesale costs for 60 copies.\n",
    "\n",
    "2) (Exercise 3.4 from the text) Here is an illustrative example of a runtime error. Run the follow code and study the error that it generates. Can you locate the problem?"
   ]
  },
  {
   "cell_type": "code",
   "execution_count": null,
   "metadata": {
    "collapsed": true
   },
   "outputs": [],
   "source": [
    "print( ((2*3) /4 + (5-6/7) *8 )\n",
    "print( ((12*13) /14 + (15-16)/17) *18 )"
   ]
  },
  {
   "cell_type": "markdown",
   "metadata": {},
   "source": [
    "3) (Exercise 3.5 from text) You look at the clock and see that it is currently 14.00h. You set an alarm to go off 535 hours later. At what time will the alarm go off? Write a program that prints the answer. Hint: for the best solution, you will need the modulo operator."
   ]
  }
 ],
 "metadata": {
  "anaconda-cloud": {},
  "celltoolbar": "Slideshow",
  "kernelspec": {
   "display_name": "Python [Root]",
   "language": "python",
   "name": "Python [Root]"
  },
  "language_info": {
   "codemirror_mode": {
    "name": "ipython",
    "version": 3
   },
   "file_extension": ".py",
   "mimetype": "text/x-python",
   "name": "python",
   "nbconvert_exporter": "python",
   "pygments_lexer": "ipython3",
   "version": "3.5.2"
  }
 },
 "nbformat": 4,
 "nbformat_minor": 0
}
