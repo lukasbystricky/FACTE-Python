{
 "cells": [
  {
   "cell_type": "markdown",
   "metadata": {
    "slideshow": {
     "slide_type": "slide"
    }
   },
   "source": [
    "# Conditions"
   ]
  },
  {
   "cell_type": "markdown",
   "metadata": {
    "slideshow": {
     "slide_type": "slide"
    }
   },
   "source": [
    "When programming you often write statements that you only want exectuted when certain conditions hold. Every programming language supports conditional statements. Here we will see how to use conditions in Python."
   ]
  },
  {
   "cell_type": "markdown",
   "metadata": {
    "slideshow": {
     "slide_type": "slide"
    }
   },
   "source": [
    "## Boolean expressions\n",
    "\n",
    "A conditional statement, often called an **if statement** consists of a test and one or more actions. The test is a **boolean expression**. The actions are executed whtn the test evaluates to true.\n",
    "\n",
    "For example, an app on your smartphone might give a warning if the batter level is lower than 5%. This means that the app needs to chaeck if a certain variable `battery_level` is lower than 5. "
   ]
  },
  {
   "cell_type": "markdown",
   "metadata": {
    "slideshow": {
     "slide_type": "subslide"
    }
   },
   "source": [
    "### Booleans\n",
    "\n",
    "`True` or `False` are boolean values that are predefined in Python. Any boolean must be either `True` or `False`. Any boolean that is not `True` must be `False` and vice versa. "
   ]
  },
  {
   "cell_type": "markdown",
   "metadata": {
    "slideshow": {
     "slide_type": "subslide"
    }
   },
   "source": [
    "Python uses the type `bool` to store boolean values.  However any value in Python can be interpreted as a boolean value, regardless of its data type. In other words when you test a conditions and your test is of a value that is not `True` or `False` it will still be interpreted as `True` or `False`. The following values are interpreted as `False`:\n",
    "* The special value `False`\n",
    "* The special value `None` \n",
    "* Every numerical value that is zero, e.g., 0 and 0.0\n",
    "* Every empty sequence, e.g., an empty string (\"\")\n",
    "* Every empty “mapping,” e.g., an empty dictionary (we haven't seen these yet)\n",
    "* Any function or method call that returns one of these listed values (this includes\n",
    "functions that return nothing)\n",
    "\n",
    "Every other value is interpreted as `True`. Any expression that is evaluated as `True` or `False` is called a boolean expression."
   ]
  },
  {
   "cell_type": "markdown",
   "metadata": {
    "slideshow": {
     "slide_type": "subslide"
    }
   },
   "source": [
    "### Comparisons\n",
    "\n",
    "The most common boolean expressions are comparisons. A comparison consists of two values and a comparison operator in between. Comparison operators are:\n",
    "* <  less than\n",
    "* <= less than or equal to\n",
    "* == equal to\n",
    "* \\>= greater than or equal to\n",
    "* \\> greater than\n",
    "* != not equal to"
   ]
  },
  {
   "cell_type": "markdown",
   "metadata": {
    "slideshow": {
     "slide_type": "subslide"
    }
   },
   "source": [
    "A common mistake is to use a single equal sign = when checking for equality. A single equal sign is the assignment operator. To check for equality you must use the double equal sign ==."
   ]
  },
  {
   "cell_type": "markdown",
   "metadata": {
    "slideshow": {
     "slide_type": "subslide"
    }
   },
   "source": [
    "You can use the comparision operators to compare both numbers and strings. Comparisons for strings is an alphabetical comparison where capitals come before all lower case letters and digits come before both of them."
   ]
  },
  {
   "cell_type": "markdown",
   "metadata": {
    "slideshow": {
     "slide_type": "subslide"
    }
   },
   "source": [
    "Here are some examples:"
   ]
  },
  {
   "cell_type": "code",
   "execution_count": 4,
   "metadata": {
    "collapsed": false
   },
   "outputs": [
    {
     "name": "stdout",
     "output_type": "stream",
     "text": [
      "2 < 5:  True\n",
      "2 <= 5:  True\n",
      "3 > 3:  False\n",
      "3 >= 3:  True\n",
      "3 == 3.0:  True\n",
      "3 == 3:  False\n",
      "\"syntax\" == \"syntax\":  True\n",
      "\"syntax\" == \"semantics\":  False\n",
      "\"syntax\" == \" syntax\":  False\n",
      "\"Python\" != \"rubbish\":  True\n",
      "\"Python\" > \"Perl\":  True\n",
      "\"banana\" < \"orange\":  True\n",
      "\"banana\" < \"Orange\":  False\n"
     ]
    }
   ],
   "source": [
    "print( \"2 < 5: \", 2 < 5)\n",
    "print( \"2 <= 5: \", 2<=5)\n",
    "print( \"3 > 3: \", 3 > 3 )\n",
    "print( \"3 >= 3: \", 3 >= 3 )\n",
    "print( \"3 == 3.0: \", 3 == 3.0 )\n",
    "print( \"3 == 3: \", 3 == \"3\" )\n",
    "print( \"\\\"syntax\\\" == \\\"syntax\\\": \", \"syntax\" == \"syntax\" )\n",
    "print( \"\\\"syntax\\\" == \\\"semantics\\\": \", \"syntax\" == \"semantics\" )\n",
    "print( \"\\\"syntax\\\" == \\\" syntax\\\": \", \"syntax\" == \" syntax\" )\n",
    "print( \"\\\"Python\\\" != \\\"rubbish\\\": \", \"Python\" != \"rubbish\" )\n",
    "print( \"\\\"Python\\\" > \\\"Perl\\\": \", \"Python\" > \"Perl\" )\n",
    "print( \"\\\"banana\\\" < \\\"orange\\\": \", \"banana\" < \"orange\" )\n",
    "print( \"\\\"banana\\\" < \\\"Orange\\\": \", \"banana\" < \"Orange\" )"
   ]
  },
  {
   "cell_type": "markdown",
   "metadata": {
    "slideshow": {
     "slide_type": "subslide"
    }
   },
   "source": [
    "You can assign the outcome of a boolean expression to a variable if you like."
   ]
  },
  {
   "cell_type": "code",
   "execution_count": 5,
   "metadata": {
    "collapsed": false
   },
   "outputs": [
    {
     "name": "stdout",
     "output_type": "stream",
     "text": [
      "True\n"
     ]
    }
   ],
   "source": [
    "greater = 5 > 2\n",
    "print(greater)"
   ]
  },
  {
   "cell_type": "markdown",
   "metadata": {
    "slideshow": {
     "slide_type": "subslide"
    }
   },
   "source": [
    "### Logical operators\n",
    "\n",
    "Boolean expressions can be combined with logical operators. There are three logical operators: **`and`**, **`or`** and **`not`**."
   ]
  },
  {
   "cell_type": "markdown",
   "metadata": {
    "slideshow": {
     "slide_type": "subslide"
    }
   },
   "source": [
    "`and` and `or` are placed between two boolean expressions. When `and` is between two boolean expressions the result is `True` if and only if both expressions evaluate to `True`; otherwise it is `False`. \n",
    "\n",
    "When `or` is between two boolean expressions the result in `True` when one or both of the expressions evaluate to `True`; it is `False` only if both expressions evaluate to `False`.\n",
    "\n",
    "`not` is placed in front of a boolean expression to switch it from `True` to `False` or vice versa."
   ]
  },
  {
   "cell_type": "markdown",
   "metadata": {
    "slideshow": {
     "slide_type": "subslide"
    }
   },
   "source": [
    "Some people like to remember these relationships by using a truth table:\n",
    "\n",
    "![Truth table](https://github.com/lukasbystricky/ISC-3313/blob/master/lectures/chapter2/images/truth_table.png?raw=true)"
   ]
  },
  {
   "cell_type": "markdown",
   "metadata": {
    "slideshow": {
     "slide_type": "subslide"
    }
   },
   "source": [
    "Combinations of `and`s and `or`s might lead to unexpected results. To ensure that the expressions are evaluated and chained together in the way you want, you can use parentheses. As always code inside parentheses gets evaluated first. For example instead of writing `a and b or c`, you could write `(a and b) or c` or `a and (b or c)` depending on which order you want to evaluate the logical operators."
   ]
  },
  {
   "cell_type": "code",
   "execution_count": 9,
   "metadata": {
    "collapsed": false,
    "slideshow": {
     "slide_type": "-"
    }
   },
   "outputs": [
    {
     "name": "stdout",
     "output_type": "stream",
     "text": [
      "True\n",
      "False\n"
     ]
    }
   ],
   "source": [
    "a = False\n",
    "b = True\n",
    "c = True\n",
    "\n",
    "print((a and b) or c)\n",
    "print(a and (b or c))"
   ]
  },
  {
   "cell_type": "markdown",
   "metadata": {
    "slideshow": {
     "slide_type": "slide"
    }
   },
   "source": [
    "## Conditional statements\n",
    "\n",
    "Conditional statements are as we said earlier statements consisting of a test and one or more actions, where the actions only get exectuted when the test evaluates to `True`. Conditional statements are written using the special word `if`.\n",
    "\n",
    "Here is an example:"
   ]
  },
  {
   "cell_type": "code",
   "execution_count": 10,
   "metadata": {
    "collapsed": false
   },
   "outputs": [
    {
     "name": "stdout",
     "output_type": "stream",
     "text": [
      "x equals 5\n"
     ]
    }
   ],
   "source": [
    "x = 5\n",
    "if x == 5:\n",
    "    print(\"x equals 5\")"
   ]
  },
  {
   "cell_type": "markdown",
   "metadata": {
    "slideshow": {
     "slide_type": "subslide"
    }
   },
   "source": [
    "The syntax of the `if` statement is as follows:\n",
    "\n",
    "    if <boolean expression>:\n",
    "        <statements>\n",
    "  \n",
    "Note the colon after the boolean expression and the fact that the statements are indented.  "
   ]
  },
  {
   "cell_type": "markdown",
   "metadata": {
    "slideshow": {
     "slide_type": "subslide"
    }
   },
   "source": [
    "Sometimes flow charts help understand how conditional statements work.\n",
    "\n",
    "![if flowchart](https://github.com/lukasbystricky/ISC-3313/blob/master/lectures/chapter4/images/if_flowchart.png?raw=true)"
   ]
  },
  {
   "cell_type": "markdown",
   "metadata": {
    "slideshow": {
     "slide_type": "subslide"
    }
   },
   "source": [
    "### Code blocks\n",
    "\n",
    "The fact that the statements after the if statement are indented is intentional and necessary. Python considers statements that are following each other and that are at the same indentation level to be part of the same **code block**. \n",
    "\n",
    "The code block after the if statement is considered the list of actions that are evaluated when the boolean expression evaluates to `True`. For example:"
   ]
  },
  {
   "cell_type": "code",
   "execution_count": 11,
   "metadata": {
    "collapsed": false
   },
   "outputs": [
    {
     "name": "stdout",
     "output_type": "stream",
     "text": [
      "This line is only executed if x < 10.\n",
      "And the same holds for this line.\n",
      "This line , however , is always executed.\n"
     ]
    }
   ],
   "source": [
    "x = 7\n",
    "if x < 10:\n",
    "    print( \"This line is only executed if x < 10.\" )\n",
    "    print( \"And the same holds for this line.\" )\n",
    "print( \"This line , however , is always executed.\" )"
   ]
  },
  {
   "cell_type": "markdown",
   "metadata": {
    "slideshow": {
     "slide_type": "subslide"
    }
   },
   "source": [
    "### Indentation\n",
    "\n",
    "We said earlier that whitespace *after the beginning* of a statement does not matter. Whitespace at the beginning of a statement is extremely important and can cause errors if you're not careful. \n",
    "\n",
    "In Python a normal level of indentation is four spaces (normally one press of <kbd>Tab</kbd>). If you copy and paste code from one editor to another however you may end up with problems. Python does not recognize a tab and four spaces to be the same thing. If you mix the two, even if the code looks like it lines up properly, Python will report an error. "
   ]
  },
  {
   "cell_type": "markdown",
   "metadata": {
    "slideshow": {
     "slide_type": "subslide"
    }
   },
   "source": [
    "### Exercise\n",
    "\n",
    "Fix the indentation errors in the code below:"
   ]
  },
  {
   "cell_type": "code",
   "execution_count": null,
   "metadata": {
    "collapsed": true,
    "slideshow": {
     "slide_type": "-"
    }
   },
   "outputs": [],
   "source": [
    "# This code contains indentation errors!\n",
    "x = 3\n",
    "y = 4\n",
    "if x == 3 and y == 4:\n",
    "    print( \"x is 3\" )\n",
    "  print( \"y is 4\" )\n",
    "if x > 2 and y < 5:\n",
    "print( \"x > 2\" )\n",
    "print( \"y < 5\" )\n",
    "if x < 4 and y > 3:\n",
    "      print( \"x < 4\" )\n",
    "    print( \"y > 3\" )"
   ]
  },
  {
   "cell_type": "markdown",
   "metadata": {
    "slideshow": {
     "slide_type": "subslide"
    }
   },
   "source": [
    "### Two-way decisions\n",
    "\n",
    "Often a decision branches. If a condition is `True` do something, if it's `False` do something else. This is supported in Python in the form of an expansion to the `if` statement that adds an `else` branch. \n"
   ]
  },
  {
   "cell_type": "code",
   "execution_count": 14,
   "metadata": {
    "collapsed": false
   },
   "outputs": [
    {
     "name": "stdout",
     "output_type": "stream",
     "text": [
      "x is bigger than 2\n"
     ]
    }
   ],
   "source": [
    "x = 4\n",
    "if x > 2:\n",
    "    print( \"x is bigger than 2\" )\n",
    "else:\n",
    "    print( \"x is smaller than or equal to 2\" )"
   ]
  },
  {
   "cell_type": "markdown",
   "metadata": {
    "slideshow": {
     "slide_type": "subslide"
    }
   },
   "source": [
    "The syntax is as follows:\n",
    "    \n",
    "    if <boolean expression>:\n",
    "        <statements>\n",
    "    else:\n",
    "        <statements>\n",
    "        \n",
    "Note the colon after the both boolean expression and the `else` keyword. It is important that the word `else` is aligned with the word `if` that it belongs to. If they are not aligned Python throws an indentation error."
   ]
  },
  {
   "cell_type": "markdown",
   "metadata": {
    "slideshow": {
     "slide_type": "subslide"
    }
   },
   "source": [
    "![if else flowchart](https://github.com/lukasbystricky/ISC-3313/blob/master/lectures/chapter4/images/ifelse_flowchart.png?raw=true)"
   ]
  },
  {
   "cell_type": "markdown",
   "metadata": {
    "slideshow": {
     "slide_type": "subslide"
    }
   },
   "source": [
    "### Exercise\n",
    "\n",
    "You can test whether an integer is even or odd using the modulo operator. When `x%2`  is 0 the number is even, otherwise it is odd. Write some code that asks\n",
    "for an integer and then reports whether it is even or odd."
   ]
  },
  {
   "cell_type": "markdown",
   "metadata": {},
   "source": [
    "### Answer"
   ]
  },
  {
   "cell_type": "code",
   "execution_count": 15,
   "metadata": {
    "collapsed": false
   },
   "outputs": [
    {
     "name": "stdout",
     "output_type": "stream",
     "text": [
      "Enter an integer: 3\n",
      "3 is odd\n"
     ]
    }
   ],
   "source": [
    "x = input(\"Enter an integer: \")\n",
    "x = int(x)\n",
    "\n",
    "if x % 2 == 0:\n",
    "    print(x,\"is even\")\n",
    "else:\n",
    "    print(x, \"is odd\")"
   ]
  },
  {
   "cell_type": "markdown",
   "metadata": {
    "slideshow": {
     "slide_type": "subslide"
    }
   },
   "source": [
    "### Multi-branch decisions\n",
    "\n",
    "Occasionally you encounter multi-branch decisions, where exactly one of multiple branches of commands has to executed. Such multi-branch decisions can be implemented by a further expansion of the `if` statement, the `elif` statement. "
   ]
  },
  {
   "cell_type": "code",
   "execution_count": 17,
   "metadata": {
    "collapsed": false,
    "slideshow": {
     "slide_type": "subslide"
    }
   },
   "outputs": [
    {
     "name": "stdout",
     "output_type": "stream",
     "text": [
      "You're pretty young!\n"
     ]
    }
   ],
   "source": [
    "age = 21\n",
    "if age < 12:\n",
    "    print( \"You're still a child!\" )\n",
    "elif age < 18:\n",
    "    print( \"You are a teenager!\" )\n",
    "elif age < 30:\n",
    "    print( \"You're pretty young!\" )\n",
    "elif age < 50:\n",
    "    print( \"Wisening up, are we?\" )\n",
    "else:\n",
    "    print( \"Aren't the years weighing heavy?\" )"
   ]
  },
  {
   "cell_type": "markdown",
   "metadata": {
    "slideshow": {
     "slide_type": "subslide"
    }
   },
   "source": [
    "The syntax is as follows:\n",
    "\n",
    "    if <boolean expression>:\n",
    "        <statements>\n",
    "    elif <boolean expression>:\n",
    "        <statements>\n",
    "    else:\n",
    "        <statements>"
   ]
  },
  {
   "cell_type": "markdown",
   "metadata": {},
   "source": [
    "This shows the syntax for a single `elif`, but of course you could have multiple. The different tests in an `if-elif-else` block are executed in order. The first boolean expression that evaluates to `True` will cause the code block that belongs to that expression to execute. Note of the other code blocks will be executed, even if their expressions would evaluate to `True`."
   ]
  },
  {
   "cell_type": "markdown",
   "metadata": {
    "slideshow": {
     "slide_type": "subslide"
    }
   },
   "source": [
    "### Exercise\n",
    "\n",
    "Write a program that defines a variable weight. If weight is greater than 20\n",
    "(kilo’s), print: “There is a $25 surcharge for luggage that is too heavy.” If weight is smaller\n",
    "than 20, print: “Have a safe flight!” If weight is exactly 20, print: “Pfew! The weight is just\n",
    "right!” Make sure that you change the value of weight a couple of times to check whether\n",
    "your code works."
   ]
  },
  {
   "cell_type": "markdown",
   "metadata": {},
   "source": [
    "### Answer"
   ]
  },
  {
   "cell_type": "code",
   "execution_count": 18,
   "metadata": {
    "collapsed": false
   },
   "outputs": [
    {
     "name": "stdout",
     "output_type": "stream",
     "text": [
      "Pfew! The weight is just right!\n"
     ]
    }
   ],
   "source": [
    "weight = 20\n",
    "\n",
    "if weight > 25:\n",
    "    print(\"There is a $25 surcharge for luggage that is too heavy\")\n",
    "elif weight < 20:\n",
    "    print(\"Have a safe flight!\")\n",
    "else:\n",
    "    print(\"Pfew! The weight is just right!\")"
   ]
  },
  {
   "cell_type": "markdown",
   "metadata": {
    "slideshow": {
     "slide_type": "subslide"
    }
   },
   "source": [
    "### Nested conditions\n",
    "\n",
    "It is perfectly possible to use an `if` statement within another `if` statement. The second `if` statement is then clearly only executed if the condition for the first `if` statement evaluates to `True`. This is called **nesting**. "
   ]
  },
  {
   "cell_type": "code",
   "execution_count": 19,
   "metadata": {
    "collapsed": false
   },
   "outputs": [
    {
     "name": "stdout",
     "output_type": "stream",
     "text": [
      "41 is dividable by neither 7 nor 11.\n"
     ]
    }
   ],
   "source": [
    "x = 41\n",
    "if x%7 == 0:\n",
    "    # --- Here starts a nested block of code ---\n",
    "    if x%11 == 0:\n",
    "        print( x, \"is dividable by both 7 and 11.\" )\n",
    "    else:\n",
    "        print( x, \"is dividable by 7, but not by 11.\" )\n",
    "    # --- Here ends the nested block of code ---\n",
    "elif x%11 == 0:\n",
    "    print( x, \"is dividable by 11, but not by 7.\" )\n",
    "else:\n",
    "    print( x, \"is dividable by neither 7 nor 11.\" )"
   ]
  },
  {
   "cell_type": "markdown",
   "metadata": {
    "slideshow": {
     "slide_type": "subslide"
    }
   },
   "source": [
    "Anything that uses the `if-elif-else` syntax can be written using nested `if` statements. For example here is the age code we saw earlier, rewritten using nesting:"
   ]
  },
  {
   "cell_type": "code",
   "execution_count": 20,
   "metadata": {
    "collapsed": false
   },
   "outputs": [
    {
     "name": "stdout",
     "output_type": "stream",
     "text": [
      "You're pretty young!\n"
     ]
    }
   ],
   "source": [
    "age = 21\n",
    "if age < 12:\n",
    "    print( \"You're still a child!\" )\n",
    "else:\n",
    "    if age < 18:\n",
    "        print( \"You are a teenager!\" )\n",
    "    else:\n",
    "        if age < 30:\n",
    "            print( \"You're pretty young!\" )\n",
    "        else:\n",
    "            if age < 50:\n",
    "                print( \"Wisening up, are we?\" )\n",
    "            else:\n",
    "                print( \"Aren't the years weighing heavy?\" )"
   ]
  },
  {
   "cell_type": "markdown",
   "metadata": {},
   "source": [
    "Using `elif`s makes the code easier to read."
   ]
  },
  {
   "cell_type": "markdown",
   "metadata": {
    "slideshow": {
     "slide_type": "slide"
    }
   },
   "source": [
    "## Exercise\n",
    "\n",
    "1) (Basically exercise 6.1 in text) Write some code that converts a students percentage grade to a letter grade. Use the following scale:\n",
    "* A : 85% - 100%\n",
    "* B : 75% - 85%\n",
    "* C : 65% - 75%\n",
    "* D : 50% - 65%\n",
    "* F : < 50%"
   ]
  }
 ],
 "metadata": {
  "celltoolbar": "Slideshow",
  "kernelspec": {
   "display_name": "Python [Root]",
   "language": "python",
   "name": "Python [Root]"
  },
  "language_info": {
   "codemirror_mode": {
    "name": "ipython",
    "version": 3
   },
   "file_extension": ".py",
   "mimetype": "text/x-python",
   "name": "python",
   "nbconvert_exporter": "python",
   "pygments_lexer": "ipython3",
   "version": "3.5.2"
  }
 },
 "nbformat": 4,
 "nbformat_minor": 0
}
